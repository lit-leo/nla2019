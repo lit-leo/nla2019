{
 "cells": [
  {
   "cell_type": "markdown",
   "metadata": {},
   "source": [
    "# Problem set 2 (145 pts)"
   ]
  },
  {
   "cell_type": "markdown",
   "metadata": {},
   "source": [
    "## Problem 1 (LU decomposition) 25 pts"
   ]
  },
  {
   "cell_type": "markdown",
   "metadata": {},
   "source": [
    "### 1. LU for band matrices (7 pts)\n",
    "\n",
    "The complexity to find an LU decomposition of a dense $n\\times n$ matrix is $\\mathcal{O}(n^3)$.\n",
    "Significant reduction in complexity can be achieved if the matrix has a certain structure, e.g. it is sparse. \n",
    "In the following task we consider an important example of $LU$ for a special type of sparse matrices –– band matrices with the bandwidth $m$ equal to 3 or 5 which called tridiagonal and pentadiagonal respectively.\n",
    "\n",
    "- (5 pts) Write a function ```band_lu(diag_broadcast, n)``` which computes LU decomposition for tridiagonal or pentadiagonal matrix with given diagonal values. \n",
    "For example, input parametres ```(diag_broadcast = [4,-2,1], n = 4)``` mean that we need to find LU decomposition for the triangular matrix of the form:\n",
    "\n",
    "$$A = \\begin{pmatrix}\n",
    "-2 & 1 & 0 & 0\\\\\n",
    "4 & -2 & 1 & 0 \\\\\n",
    "0 & 4 & -2 & 1 \\\\\n",
    "0 & 0 & 4 & -2 \\\\\n",
    "\\end{pmatrix}.$$\n",
    "\n",
    "As an output it is considered to make ```L``` and ```U``` - 2D arrays representing diagonals in factors $L$ (```L[0]``` keeps first lower diagonal, ```L[1]``` keeps second lower, ...), and $U$ (```U[:,0]``` keeps main diagonal, ```U[:,1]``` keeps first upper, ...).\n",
    "- (2 pts) Compare execution time of the band LU decomposition using standard function from ```scipy```, i.e. which takes the whole matrix and does not know about its special structure, and band decomposition of yours implementation. Comment on the results."
   ]
  },
  {
   "cell_type": "markdown",
   "metadata": {},
   "source": [
    "Let's get the formulas for band LU through multiplication of desired matricies:\n",
    "\n",
    "**tridiagonal**\n",
    "\n",
    "Let's consider $n = 4$, values of diag_broadcast : $a$, $b$, $c$\n",
    "\n",
    "$A = \\begin{pmatrix}\n",
    "b & c & 0 & 0\\\\\n",
    "a & b & c & 0 \\\\\n",
    "0 & a & b & c \\\\\n",
    "0 & 0 & a & b \\\\\n",
    "\\end{pmatrix} = \\begin{pmatrix}\n",
    "1 & 0 & 0 & 0\\\\\n",
    "L[0, 0] & 1 & 0 & 0 \\\\\n",
    "0 & L[0, 1] & 1 & 0 \\\\\n",
    "0 & 0 & L[0, 2] & 1 \\\\\n",
    "\\end{pmatrix} \\begin{pmatrix}\n",
    "U[0, 0] & U[0, 1] & 0 & 0\\\\\n",
    "0 & U[1, 0] & U[1, 1] & 0 \\\\\n",
    "0 & 0 & U[2, 0] & U[2, 1] \\\\\n",
    "0 & 0 & 0 & U[3, 0] \\\\\n",
    "\\end{pmatrix}$\n",
    "\n",
    "\n",
    "* $U[0, 0]$ = diag_broadcast[1]\n",
    "\n",
    "* $U[i, 1]$ = diag_broadcast[2]\n",
    "\n",
    "* $L[0, i]$ = $\\frac{a}{U[i, 0]}$ = diag_broadcast[0] / $U[i, 0]$\n",
    "\n",
    "* $U[i + 1, 0]$ = b -  $L[0, i]$ * c = diag_broadcast[1] - $L[0, i]$ * diag_broadcast[2]\n",
    "\n",
    "\n",
    "**pentadiagonal**\n",
    "\n",
    "Let's consider $n = 4$, values of diag_broadcast : $a$, $b$, $c$, $d$, $e$\n",
    "\n",
    "$A = \\begin{pmatrix}\n",
    "c & d & e & 0\\\\\n",
    "b & c & d & e \\\\\n",
    "a & b & c & d \\\\\n",
    "0 & a & b & c \\\\\n",
    "\\end{pmatrix} = \\begin{pmatrix}\n",
    "1 & 0 & 0 & 0\\\\\n",
    "L[0][0] & 1 & 0 & 0 \\\\\n",
    "L[1][0] & L[0][1] & 1 & 0 \\\\\n",
    "0 & L[1][1] & L[0][2] & 1 \\\\\n",
    "\\end{pmatrix} \\begin{pmatrix}\n",
    "U[0, 0] & U[0, 1] & U[0, 2] & 0\\\\\n",
    "0 & U[1, 0] & U[1, 1] & U[1, 2] \\\\\n",
    "0 & 0 & U[2, 0] & U[2, 1] \\\\\n",
    "0 & 0 & 0 & U[3, 0] \\\\\n",
    "\\end{pmatrix}$\n",
    "\n",
    "\n",
    "* $U[i, 2]$ = $e $\n",
    "\n",
    "* $U[0,0]$ = $c $\n",
    "\n",
    "* $U[0, 1]$ = $d $\n",
    "\n",
    "* $L[0, 0]$ = $\\frac{b }{c }$\n",
    "\n",
    "* $U[1, 0]$ = $c - \\frac{b d }{c }$\n",
    "\n",
    "* $L[1, i]$ = $\\frac{a}{U[i, 0]}$\n",
    "\n",
    "* $U[i + 1, 1]$ = $d - L[0, i] e $\n",
    "\n",
    "* $L[0, i + 1]$ = $\\frac{b - L[1, i] U[i, 1]}{U[i + 1, 0]}$\n",
    "\n",
    "* $U[i + 2, 0]$ = $c - L[1, i] e + L[0, i + 1] U[i + 1, 1]$"
   ]
  },
  {
   "cell_type": "code",
   "execution_count": 1,
   "metadata": {},
   "outputs": [],
   "source": [
    "from scipy.sparse import diags # can be used with broadcasting of scalars if desired dimensions are large\n",
    "import scipy as sc\n",
    "import numpy as np\n",
    "\n",
    "# INPUT : diag_broadcast - list of diagonals value to broadcast,length equal to 3 or 5; n - integer, band matrix shape.\n",
    "# OUTPUT : L - 2D np.ndarray, L.shape[0] depends on bandwidth, L.shape[1] = n-1, do not store main diagonal, where all ones;                  add zeros to the right side of rows to handle with changing length of diagonals.\n",
    "#          U - 2D np.ndarray, U.shape[0] = n, U.shape[1] depends on bandwidth;\n",
    "#              add zeros to the bottom of columns to handle with changing length of diagonals.\n",
    "def band_lu(diag_broadcast, n):\n",
    "    class MatrixIsNotStrictlyRegular(Exception):\n",
    "        pass\n",
    "    \n",
    "    if len(diag_broadcast) == 3:\n",
    "        L = np.zeros(n-1)\n",
    "        U = np.zeros((n, 2))\n",
    "\n",
    "        U[0, 0] = diag_broadcast[1]\n",
    "        for i in range(0, n - 1):\n",
    "            if U[i, 0] == 0:\n",
    "                raise MatrixIsNotStrictlyRegular()    \n",
    "            L[i] = diag_broadcast[0] / U[i, 0]\n",
    "            U[i, 1] = diag_broadcast[2]\n",
    "            U[i + 1, 0] = diag_broadcast[1] - L[i] * diag_broadcast[2]\n",
    "        return L, U\n",
    "        \n",
    "    elif len(diag_broadcast) == 5:\n",
    "        L = np.zeros((2, n-1))\n",
    "        U = np.zeros((n, 3))\n",
    "\n",
    "        U[0, 0] = diag_broadcast[2]\n",
    "        U[0, 1] = diag_broadcast[3]\n",
    "        if diag_broadcast[2] == 0:\n",
    "            raise MatrixIsNotStrictlyRegular()\n",
    "        L[0, 0] = diag_broadcast[1] / diag_broadcast[2]\n",
    "        U[1, 0] = diag_broadcast[2] - (diag_broadcast[1] * diag_broadcast[3]) / diag_broadcast[2]\n",
    "\n",
    "        for i in range(0, n - 2):\n",
    "            U[i, 2] = diag_broadcast[4]\n",
    "\n",
    "            if U[i, 0] == 0:\n",
    "                raise MatrixIsNotStrictlyRegular()   \n",
    "            L[1, i] = diag_broadcast[0] / U[i, 0]\n",
    "\n",
    "            U[i + 1, 1] = diag_broadcast[3] - L[0, i] * diag_broadcast[4]\n",
    "\n",
    "            if U[i + 1, 0] == 0:\n",
    "                raise MatrixIsNotStrictlyRegular() \n",
    "                \n",
    "            L[0, i + 1] = (diag_broadcast[1] - L[1, i] * U[i, 1]) / U[i + 1, 0]\n",
    "            \n",
    "            U[i + 2, 0] = diag_broadcast[2] - L[1, i] * diag_broadcast[4] - L[0, i + 1] * U[i + 1, 1]\n",
    "\n",
    "        return L, U\n",
    "    else:\n",
    "        print(\"Incorrect value of diag_broadcast: expected 3 or 5 but got \", diag_broadcast)"
   ]
  },
  {
   "cell_type": "code",
   "execution_count": 2,
   "metadata": {},
   "outputs": [],
   "source": [
    "from scipy.sparse import diags\n",
    "import matplotlib.pyplot as plt\n",
    "from scipy.linalg import lu"
   ]
  },
  {
   "cell_type": "code",
   "execution_count": 3,
   "metadata": {
    "scrolled": false
   },
   "outputs": [
    {
     "name": "stdout",
     "output_type": "stream",
     "text": [
      "The slowest run took 10.06 times longer than the fastest. This could mean that an intermediate result is being cached.\n",
      "889 µs ± 943 µs per loop (mean ± std. dev. of 3 runs, 10 loops each)\n",
      "564 µs ± 27.7 µs per loop (mean ± std. dev. of 3 runs, 10 loops each)\n",
      "3.03 ms ± 92.2 µs per loop (mean ± std. dev. of 3 runs, 10 loops each)\n",
      "1.24 ms ± 50.3 µs per loop (mean ± std. dev. of 3 runs, 10 loops each)\n",
      "8.17 ms ± 62.3 µs per loop (mean ± std. dev. of 3 runs, 10 loops each)\n",
      "2.01 ms ± 20 µs per loop (mean ± std. dev. of 3 runs, 10 loops each)\n",
      "16.5 ms ± 457 µs per loop (mean ± std. dev. of 3 runs, 10 loops each)\n",
      "1.35 ms ± 9.82 µs per loop (mean ± std. dev. of 3 runs, 10 loops each)\n",
      "19.3 ms ± 2.02 ms per loop (mean ± std. dev. of 3 runs, 10 loops each)\n",
      "3.52 ms ± 19.3 µs per loop (mean ± std. dev. of 3 runs, 10 loops each)\n"
     ]
    },
    {
     "ename": "KeyboardInterrupt",
     "evalue": "",
     "output_type": "error",
     "traceback": [
      "\u001b[0;31m---------------------------------------------------------------------------\u001b[0m",
      "\u001b[0;31mKeyboardInterrupt\u001b[0m                         Traceback (most recent call last)",
      "\u001b[0;32m<ipython-input-3-668636bad83f>\u001b[0m in \u001b[0;36m<module>\u001b[0;34m\u001b[0m\n\u001b[1;32m      6\u001b[0m     \u001b[0mmatrix\u001b[0m \u001b[0;34m=\u001b[0m \u001b[0mdiags\u001b[0m\u001b[0;34m(\u001b[0m\u001b[0;34m[\u001b[0m\u001b[0;34m-\u001b[0m\u001b[0;36m2\u001b[0m\u001b[0;34m,\u001b[0m \u001b[0;36m4\u001b[0m\u001b[0;34m,\u001b[0m \u001b[0;34m-\u001b[0m\u001b[0;36m1\u001b[0m\u001b[0;34m]\u001b[0m\u001b[0;34m,\u001b[0m \u001b[0;34m[\u001b[0m\u001b[0;34m-\u001b[0m\u001b[0;36m1\u001b[0m\u001b[0;34m,\u001b[0m \u001b[0;36m0\u001b[0m\u001b[0;34m,\u001b[0m \u001b[0;36m1\u001b[0m\u001b[0;34m]\u001b[0m\u001b[0;34m,\u001b[0m \u001b[0mshape\u001b[0m\u001b[0;34m=\u001b[0m\u001b[0;34m(\u001b[0m\u001b[0mshape\u001b[0m\u001b[0;34m,\u001b[0m \u001b[0mshape\u001b[0m\u001b[0;34m)\u001b[0m\u001b[0;34m)\u001b[0m\u001b[0;34m.\u001b[0m\u001b[0mtodense\u001b[0m\u001b[0;34m(\u001b[0m\u001b[0;34m)\u001b[0m\u001b[0;34m\u001b[0m\u001b[0;34m\u001b[0m\u001b[0m\n\u001b[1;32m      7\u001b[0m \u001b[0;34m\u001b[0m\u001b[0m\n\u001b[0;32m----> 8\u001b[0;31m     \u001b[0mlu_time\u001b[0m \u001b[0;34m=\u001b[0m \u001b[0mget_ipython\u001b[0m\u001b[0;34m(\u001b[0m\u001b[0;34m)\u001b[0m\u001b[0;34m.\u001b[0m\u001b[0mrun_line_magic\u001b[0m\u001b[0;34m(\u001b[0m\u001b[0;34m'timeit'\u001b[0m\u001b[0;34m,\u001b[0m \u001b[0;34m'-r 3 -n 10 -o lu(matrix)'\u001b[0m\u001b[0;34m)\u001b[0m\u001b[0;34m\u001b[0m\u001b[0;34m\u001b[0m\u001b[0m\n\u001b[0m\u001b[1;32m      9\u001b[0m     \u001b[0mlu_t\u001b[0m\u001b[0;34m.\u001b[0m\u001b[0mappend\u001b[0m\u001b[0;34m(\u001b[0m\u001b[0mlu_time\u001b[0m\u001b[0;34m.\u001b[0m\u001b[0mbest\u001b[0m\u001b[0;34m)\u001b[0m\u001b[0;34m\u001b[0m\u001b[0;34m\u001b[0m\u001b[0m\n\u001b[1;32m     10\u001b[0m \u001b[0;34m\u001b[0m\u001b[0m\n",
      "\u001b[0;32m~/miniconda3/lib/python3.7/site-packages/IPython/core/interactiveshell.py\u001b[0m in \u001b[0;36mrun_line_magic\u001b[0;34m(self, magic_name, line, _stack_depth)\u001b[0m\n\u001b[1;32m   2312\u001b[0m                 \u001b[0mkwargs\u001b[0m\u001b[0;34m[\u001b[0m\u001b[0;34m'local_ns'\u001b[0m\u001b[0;34m]\u001b[0m \u001b[0;34m=\u001b[0m \u001b[0msys\u001b[0m\u001b[0;34m.\u001b[0m\u001b[0m_getframe\u001b[0m\u001b[0;34m(\u001b[0m\u001b[0mstack_depth\u001b[0m\u001b[0;34m)\u001b[0m\u001b[0;34m.\u001b[0m\u001b[0mf_locals\u001b[0m\u001b[0;34m\u001b[0m\u001b[0;34m\u001b[0m\u001b[0m\n\u001b[1;32m   2313\u001b[0m             \u001b[0;32mwith\u001b[0m \u001b[0mself\u001b[0m\u001b[0;34m.\u001b[0m\u001b[0mbuiltin_trap\u001b[0m\u001b[0;34m:\u001b[0m\u001b[0;34m\u001b[0m\u001b[0;34m\u001b[0m\u001b[0m\n\u001b[0;32m-> 2314\u001b[0;31m                 \u001b[0mresult\u001b[0m \u001b[0;34m=\u001b[0m \u001b[0mfn\u001b[0m\u001b[0;34m(\u001b[0m\u001b[0;34m*\u001b[0m\u001b[0margs\u001b[0m\u001b[0;34m,\u001b[0m \u001b[0;34m**\u001b[0m\u001b[0mkwargs\u001b[0m\u001b[0;34m)\u001b[0m\u001b[0;34m\u001b[0m\u001b[0;34m\u001b[0m\u001b[0m\n\u001b[0m\u001b[1;32m   2315\u001b[0m             \u001b[0;32mreturn\u001b[0m \u001b[0mresult\u001b[0m\u001b[0;34m\u001b[0m\u001b[0;34m\u001b[0m\u001b[0m\n\u001b[1;32m   2316\u001b[0m \u001b[0;34m\u001b[0m\u001b[0m\n",
      "\u001b[0;32m</home/litleo/miniconda3/lib/python3.7/site-packages/decorator.py:decorator-gen-60>\u001b[0m in \u001b[0;36mtimeit\u001b[0;34m(self, line, cell, local_ns)\u001b[0m\n",
      "\u001b[0;32m~/miniconda3/lib/python3.7/site-packages/IPython/core/magic.py\u001b[0m in \u001b[0;36m<lambda>\u001b[0;34m(f, *a, **k)\u001b[0m\n\u001b[1;32m    185\u001b[0m     \u001b[0;31m# but it's overkill for just that one bit of state.\u001b[0m\u001b[0;34m\u001b[0m\u001b[0;34m\u001b[0m\u001b[0;34m\u001b[0m\u001b[0m\n\u001b[1;32m    186\u001b[0m     \u001b[0;32mdef\u001b[0m \u001b[0mmagic_deco\u001b[0m\u001b[0;34m(\u001b[0m\u001b[0marg\u001b[0m\u001b[0;34m)\u001b[0m\u001b[0;34m:\u001b[0m\u001b[0;34m\u001b[0m\u001b[0;34m\u001b[0m\u001b[0m\n\u001b[0;32m--> 187\u001b[0;31m         \u001b[0mcall\u001b[0m \u001b[0;34m=\u001b[0m \u001b[0;32mlambda\u001b[0m \u001b[0mf\u001b[0m\u001b[0;34m,\u001b[0m \u001b[0;34m*\u001b[0m\u001b[0ma\u001b[0m\u001b[0;34m,\u001b[0m \u001b[0;34m**\u001b[0m\u001b[0mk\u001b[0m\u001b[0;34m:\u001b[0m \u001b[0mf\u001b[0m\u001b[0;34m(\u001b[0m\u001b[0;34m*\u001b[0m\u001b[0ma\u001b[0m\u001b[0;34m,\u001b[0m \u001b[0;34m**\u001b[0m\u001b[0mk\u001b[0m\u001b[0;34m)\u001b[0m\u001b[0;34m\u001b[0m\u001b[0;34m\u001b[0m\u001b[0m\n\u001b[0m\u001b[1;32m    188\u001b[0m \u001b[0;34m\u001b[0m\u001b[0m\n\u001b[1;32m    189\u001b[0m         \u001b[0;32mif\u001b[0m \u001b[0mcallable\u001b[0m\u001b[0;34m(\u001b[0m\u001b[0marg\u001b[0m\u001b[0;34m)\u001b[0m\u001b[0;34m:\u001b[0m\u001b[0;34m\u001b[0m\u001b[0;34m\u001b[0m\u001b[0m\n",
      "\u001b[0;32m~/miniconda3/lib/python3.7/site-packages/IPython/core/magics/execution.py\u001b[0m in \u001b[0;36mtimeit\u001b[0;34m(self, line, cell, local_ns)\u001b[0m\n\u001b[1;32m   1160\u001b[0m                     \u001b[0;32mbreak\u001b[0m\u001b[0;34m\u001b[0m\u001b[0;34m\u001b[0m\u001b[0m\n\u001b[1;32m   1161\u001b[0m \u001b[0;34m\u001b[0m\u001b[0m\n\u001b[0;32m-> 1162\u001b[0;31m         \u001b[0mall_runs\u001b[0m \u001b[0;34m=\u001b[0m \u001b[0mtimer\u001b[0m\u001b[0;34m.\u001b[0m\u001b[0mrepeat\u001b[0m\u001b[0;34m(\u001b[0m\u001b[0mrepeat\u001b[0m\u001b[0;34m,\u001b[0m \u001b[0mnumber\u001b[0m\u001b[0;34m)\u001b[0m\u001b[0;34m\u001b[0m\u001b[0;34m\u001b[0m\u001b[0m\n\u001b[0m\u001b[1;32m   1163\u001b[0m         \u001b[0mbest\u001b[0m \u001b[0;34m=\u001b[0m \u001b[0mmin\u001b[0m\u001b[0;34m(\u001b[0m\u001b[0mall_runs\u001b[0m\u001b[0;34m)\u001b[0m \u001b[0;34m/\u001b[0m \u001b[0mnumber\u001b[0m\u001b[0;34m\u001b[0m\u001b[0;34m\u001b[0m\u001b[0m\n\u001b[1;32m   1164\u001b[0m         \u001b[0mworst\u001b[0m \u001b[0;34m=\u001b[0m \u001b[0mmax\u001b[0m\u001b[0;34m(\u001b[0m\u001b[0mall_runs\u001b[0m\u001b[0;34m)\u001b[0m \u001b[0;34m/\u001b[0m \u001b[0mnumber\u001b[0m\u001b[0;34m\u001b[0m\u001b[0;34m\u001b[0m\u001b[0m\n",
      "\u001b[0;32m~/miniconda3/lib/python3.7/timeit.py\u001b[0m in \u001b[0;36mrepeat\u001b[0;34m(self, repeat, number)\u001b[0m\n\u001b[1;32m    202\u001b[0m         \u001b[0mr\u001b[0m \u001b[0;34m=\u001b[0m \u001b[0;34m[\u001b[0m\u001b[0;34m]\u001b[0m\u001b[0;34m\u001b[0m\u001b[0;34m\u001b[0m\u001b[0m\n\u001b[1;32m    203\u001b[0m         \u001b[0;32mfor\u001b[0m \u001b[0mi\u001b[0m \u001b[0;32min\u001b[0m \u001b[0mrange\u001b[0m\u001b[0;34m(\u001b[0m\u001b[0mrepeat\u001b[0m\u001b[0;34m)\u001b[0m\u001b[0;34m:\u001b[0m\u001b[0;34m\u001b[0m\u001b[0;34m\u001b[0m\u001b[0m\n\u001b[0;32m--> 204\u001b[0;31m             \u001b[0mt\u001b[0m \u001b[0;34m=\u001b[0m \u001b[0mself\u001b[0m\u001b[0;34m.\u001b[0m\u001b[0mtimeit\u001b[0m\u001b[0;34m(\u001b[0m\u001b[0mnumber\u001b[0m\u001b[0;34m)\u001b[0m\u001b[0;34m\u001b[0m\u001b[0;34m\u001b[0m\u001b[0m\n\u001b[0m\u001b[1;32m    205\u001b[0m             \u001b[0mr\u001b[0m\u001b[0;34m.\u001b[0m\u001b[0mappend\u001b[0m\u001b[0;34m(\u001b[0m\u001b[0mt\u001b[0m\u001b[0;34m)\u001b[0m\u001b[0;34m\u001b[0m\u001b[0;34m\u001b[0m\u001b[0m\n\u001b[1;32m    206\u001b[0m         \u001b[0;32mreturn\u001b[0m \u001b[0mr\u001b[0m\u001b[0;34m\u001b[0m\u001b[0;34m\u001b[0m\u001b[0m\n",
      "\u001b[0;32m~/miniconda3/lib/python3.7/site-packages/IPython/core/magics/execution.py\u001b[0m in \u001b[0;36mtimeit\u001b[0;34m(self, number)\u001b[0m\n\u001b[1;32m    167\u001b[0m         \u001b[0mgc\u001b[0m\u001b[0;34m.\u001b[0m\u001b[0mdisable\u001b[0m\u001b[0;34m(\u001b[0m\u001b[0;34m)\u001b[0m\u001b[0;34m\u001b[0m\u001b[0;34m\u001b[0m\u001b[0m\n\u001b[1;32m    168\u001b[0m         \u001b[0;32mtry\u001b[0m\u001b[0;34m:\u001b[0m\u001b[0;34m\u001b[0m\u001b[0;34m\u001b[0m\u001b[0m\n\u001b[0;32m--> 169\u001b[0;31m             \u001b[0mtiming\u001b[0m \u001b[0;34m=\u001b[0m \u001b[0mself\u001b[0m\u001b[0;34m.\u001b[0m\u001b[0minner\u001b[0m\u001b[0;34m(\u001b[0m\u001b[0mit\u001b[0m\u001b[0;34m,\u001b[0m \u001b[0mself\u001b[0m\u001b[0;34m.\u001b[0m\u001b[0mtimer\u001b[0m\u001b[0;34m)\u001b[0m\u001b[0;34m\u001b[0m\u001b[0;34m\u001b[0m\u001b[0m\n\u001b[0m\u001b[1;32m    170\u001b[0m         \u001b[0;32mfinally\u001b[0m\u001b[0;34m:\u001b[0m\u001b[0;34m\u001b[0m\u001b[0;34m\u001b[0m\u001b[0m\n\u001b[1;32m    171\u001b[0m             \u001b[0;32mif\u001b[0m \u001b[0mgcold\u001b[0m\u001b[0;34m:\u001b[0m\u001b[0;34m\u001b[0m\u001b[0;34m\u001b[0m\u001b[0m\n",
      "\u001b[0;32m<magic-timeit>\u001b[0m in \u001b[0;36minner\u001b[0;34m(_it, _timer)\u001b[0m\n",
      "\u001b[0;32m~/miniconda3/lib/python3.7/site-packages/scipy/linalg/decomp_lu.py\u001b[0m in \u001b[0;36mlu\u001b[0;34m(a, permute_l, overwrite_a, check_finite)\u001b[0m\n\u001b[1;32m    216\u001b[0m     \u001b[0moverwrite_a\u001b[0m \u001b[0;34m=\u001b[0m \u001b[0moverwrite_a\u001b[0m \u001b[0;32mor\u001b[0m \u001b[0;34m(\u001b[0m\u001b[0m_datacopied\u001b[0m\u001b[0;34m(\u001b[0m\u001b[0ma1\u001b[0m\u001b[0;34m,\u001b[0m \u001b[0ma\u001b[0m\u001b[0;34m)\u001b[0m\u001b[0;34m)\u001b[0m\u001b[0;34m\u001b[0m\u001b[0;34m\u001b[0m\u001b[0m\n\u001b[1;32m    217\u001b[0m     \u001b[0mflu\u001b[0m\u001b[0;34m,\u001b[0m \u001b[0;34m=\u001b[0m \u001b[0mget_flinalg_funcs\u001b[0m\u001b[0;34m(\u001b[0m\u001b[0;34m(\u001b[0m\u001b[0;34m'lu'\u001b[0m\u001b[0;34m,\u001b[0m\u001b[0;34m)\u001b[0m\u001b[0;34m,\u001b[0m \u001b[0;34m(\u001b[0m\u001b[0ma1\u001b[0m\u001b[0;34m,\u001b[0m\u001b[0;34m)\u001b[0m\u001b[0;34m)\u001b[0m\u001b[0;34m\u001b[0m\u001b[0;34m\u001b[0m\u001b[0m\n\u001b[0;32m--> 218\u001b[0;31m     \u001b[0mp\u001b[0m\u001b[0;34m,\u001b[0m \u001b[0ml\u001b[0m\u001b[0;34m,\u001b[0m \u001b[0mu\u001b[0m\u001b[0;34m,\u001b[0m \u001b[0minfo\u001b[0m \u001b[0;34m=\u001b[0m \u001b[0mflu\u001b[0m\u001b[0;34m(\u001b[0m\u001b[0ma1\u001b[0m\u001b[0;34m,\u001b[0m \u001b[0mpermute_l\u001b[0m\u001b[0;34m=\u001b[0m\u001b[0mpermute_l\u001b[0m\u001b[0;34m,\u001b[0m \u001b[0moverwrite_a\u001b[0m\u001b[0;34m=\u001b[0m\u001b[0moverwrite_a\u001b[0m\u001b[0;34m)\u001b[0m\u001b[0;34m\u001b[0m\u001b[0;34m\u001b[0m\u001b[0m\n\u001b[0m\u001b[1;32m    219\u001b[0m     \u001b[0;32mif\u001b[0m \u001b[0minfo\u001b[0m \u001b[0;34m<\u001b[0m \u001b[0;36m0\u001b[0m\u001b[0;34m:\u001b[0m\u001b[0;34m\u001b[0m\u001b[0;34m\u001b[0m\u001b[0m\n\u001b[1;32m    220\u001b[0m         raise ValueError('illegal value in %d-th argument of '\n",
      "\u001b[0;31mKeyboardInterrupt\u001b[0m: "
     ]
    }
   ],
   "source": [
    "shapes = np.linspace(100, 4000, 20).astype(int)\n",
    "\n",
    "lu_t = []\n",
    "band_t = []\n",
    "for shape in shapes:\n",
    "    matrix = diags([-2, 4, -1], [-1, 0, 1], shape=(shape, shape)).todense() \n",
    "    \n",
    "    lu_time = %timeit -r 3 -n 10 -o lu(matrix)\n",
    "    lu_t.append(lu_time.best)\n",
    "    \n",
    "    band_time = %timeit -r 3 -n 10 -o band_lu([-2, 4, -1], shape)\n",
    "    band_t.append(band_time.best)"
   ]
  },
  {
   "cell_type": "code",
   "execution_count": 72,
   "metadata": {
    "scrolled": true
   },
   "outputs": [
    {
     "data": {
      "image/png": "[encoded data removed]",
      "text/plain": [
       "<Figure size 1080x360 with 1 Axes>"
      ]
     },
     "metadata": {
      "needs_background": "light"
     },
     "output_type": "display_data"
    }
   ],
   "source": [
    "plt.figure(figsize=(15, 5))\n",
    "plt.title(r\"Time comparison between band_lu and scipy.linalg.lu for tridiagonal matricies\")\n",
    "plt.plot(shapes, lu_t, label='scipy.linalg.lu')\n",
    "plt.plot(shapes, band_t, label='band_lu')\n",
    "plt.xlabel('Matrix size')\n",
    "plt.ylabel('Execution time')\n",
    "plt.yscale('log')\n",
    "plt.grid()\n",
    "plt.legend(loc='best')\n",
    "plt.show()"
   ]
  },
  {
   "cell_type": "code",
   "execution_count": 75,
   "metadata": {},
   "outputs": [
    {
     "name": "stdout",
     "output_type": "stream",
     "text": [
      "214 µs ± 22.9 µs per loop (mean ± std. dev. of 3 runs, 10 loops each)\n",
      "1.42 ms ± 11.7 µs per loop (mean ± std. dev. of 3 runs, 10 loops each)\n",
      "1.09 ms ± 15.2 µs per loop (mean ± std. dev. of 3 runs, 10 loops each)\n",
      "3.62 ms ± 707 µs per loop (mean ± std. dev. of 3 runs, 10 loops each)\n",
      "4.18 ms ± 204 µs per loop (mean ± std. dev. of 3 runs, 10 loops each)\n",
      "5.09 ms ± 335 µs per loop (mean ± std. dev. of 3 runs, 10 loops each)\n",
      "7.83 ms ± 501 µs per loop (mean ± std. dev. of 3 runs, 10 loops each)\n",
      "3.79 ms ± 22.5 µs per loop (mean ± std. dev. of 3 runs, 10 loops each)\n",
      "13.7 ms ± 499 µs per loop (mean ± std. dev. of 3 runs, 10 loops each)\n",
      "5.25 ms ± 40 µs per loop (mean ± std. dev. of 3 runs, 10 loops each)\n",
      "24.2 ms ± 470 µs per loop (mean ± std. dev. of 3 runs, 10 loops each)\n",
      "7.7 ms ± 1.56 ms per loop (mean ± std. dev. of 3 runs, 10 loops each)\n",
      "39.6 ms ± 4.06 ms per loop (mean ± std. dev. of 3 runs, 10 loops each)\n",
      "7.03 ms ± 155 µs per loop (mean ± std. dev. of 3 runs, 10 loops each)\n",
      "57.9 ms ± 1.2 ms per loop (mean ± std. dev. of 3 runs, 10 loops each)\n",
      "8 ms ± 160 µs per loop (mean ± std. dev. of 3 runs, 10 loops each)\n",
      "77.7 ms ± 1.86 ms per loop (mean ± std. dev. of 3 runs, 10 loops each)\n",
      "9.3 ms ± 36.4 µs per loop (mean ± std. dev. of 3 runs, 10 loops each)\n",
      "97.6 ms ± 1.07 ms per loop (mean ± std. dev. of 3 runs, 10 loops each)\n",
      "10.2 ms ± 148 µs per loop (mean ± std. dev. of 3 runs, 10 loops each)\n",
      "102 ms ± 4.34 ms per loop (mean ± std. dev. of 3 runs, 10 loops each)\n",
      "14.1 ms ± 2.52 ms per loop (mean ± std. dev. of 3 runs, 10 loops each)\n",
      "160 ms ± 5.67 ms per loop (mean ± std. dev. of 3 runs, 10 loops each)\n",
      "12.7 ms ± 134 µs per loop (mean ± std. dev. of 3 runs, 10 loops each)\n",
      "239 ms ± 15.7 ms per loop (mean ± std. dev. of 3 runs, 10 loops each)\n",
      "14.9 ms ± 502 µs per loop (mean ± std. dev. of 3 runs, 10 loops each)\n",
      "247 ms ± 12.8 ms per loop (mean ± std. dev. of 3 runs, 10 loops each)\n",
      "16.3 ms ± 948 µs per loop (mean ± std. dev. of 3 runs, 10 loops each)\n",
      "300 ms ± 6.16 ms per loop (mean ± std. dev. of 3 runs, 10 loops each)\n",
      "17.1 ms ± 221 µs per loop (mean ± std. dev. of 3 runs, 10 loops each)\n",
      "394 ms ± 8.13 ms per loop (mean ± std. dev. of 3 runs, 10 loops each)\n",
      "18.5 ms ± 1.54 ms per loop (mean ± std. dev. of 3 runs, 10 loops each)\n",
      "463 ms ± 20.1 ms per loop (mean ± std. dev. of 3 runs, 10 loops each)\n",
      "19.1 ms ± 1.58 ms per loop (mean ± std. dev. of 3 runs, 10 loops each)\n",
      "450 ms ± 4.43 ms per loop (mean ± std. dev. of 3 runs, 10 loops each)\n",
      "20.3 ms ± 2.1 ms per loop (mean ± std. dev. of 3 runs, 10 loops each)\n",
      "596 ms ± 43.9 ms per loop (mean ± std. dev. of 3 runs, 10 loops each)\n",
      "24 ms ± 3.26 ms per loop (mean ± std. dev. of 3 runs, 10 loops each)\n",
      "712 ms ± 8.08 ms per loop (mean ± std. dev. of 3 runs, 10 loops each)\n",
      "23.8 ms ± 3.6 ms per loop (mean ± std. dev. of 3 runs, 10 loops each)\n"
     ]
    }
   ],
   "source": [
    "shapes = np.linspace(100, 4000, 20).astype(int)\n",
    "\n",
    "lu_t = []\n",
    "band_t = []\n",
    "for shape in shapes:\n",
    "    matrix = diags([-1, -1, 5, -1, -1], [-2, -1, 0, 1, 2], shape=(shape, shape)).todense() \n",
    "    \n",
    "    lu_time = %timeit -r 3 -n 10 -o lu(matrix)\n",
    "    lu_t.append(lu_time.best)\n",
    "    \n",
    "    band_time = %timeit -r 3 -n 10 -o band_lu([-1, -1, 5, -1, -1], shape)\n",
    "    band_t.append(band_time.best)"
   ]
  },
  {
   "cell_type": "code",
   "execution_count": 76,
   "metadata": {},
   "outputs": [
    {
     "data": {
      "image/png": "[encoded data removed]",
      "text/plain": [
       "<Figure size 1080x360 with 1 Axes>"
      ]
     },
     "metadata": {
      "needs_background": "light"
     },
     "output_type": "display_data"
    }
   ],
   "source": [
    "plt.figure(figsize=(15, 5))\n",
    "plt.title(r\"Time comparison between band_lu and scipy.linalg.lu for pentadiagonal matricies\")\n",
    "plt.plot(shapes, lu_t, label='scipy.linalg.lu')\n",
    "plt.plot(shapes, band_t, label='band_lu')\n",
    "plt.xlabel('Matrix size')\n",
    "plt.ylabel('Execution time')\n",
    "plt.yscale('log')\n",
    "plt.grid()\n",
    "plt.legend(loc='best')\n",
    "plt.show()"
   ]
  },
  {
   "cell_type": "markdown",
   "metadata": {},
   "source": [
    "### 2. Stability of LU (8 pts)\n",
    "\n",
    "Let\n",
    "$A = \\begin{pmatrix}\n",
    "\\varepsilon & 1 & 0\\\\\n",
    "1 & 1 & 1 \\\\\n",
    "0 & 1 & 1\n",
    "\\end{pmatrix}.$ \n",
    "* (5 pts) Find analytically LU decomposition with and without pivoting for the matrix $A$.\n",
    "* (3 pts) Explain, why can the LU decomposition fail to approximate factors $L$ and $U$ for $|\\varepsilon|\\ll 1$ in computer arithmetic?"
   ]
  },
  {
   "cell_type": "markdown",
   "metadata": {},
   "source": [
    "**1**\n",
    "Without pivoting:\n",
    "\n",
    "$A = \\begin{pmatrix}\n",
    "\\varepsilon & 1 & 0\\\\\n",
    "1 & 1 & 1 \\\\\n",
    "0 & 1 & 1\n",
    "\\end{pmatrix} = \\begin{pmatrix}\n",
    "1 & 0 & 0\\\\\n",
    "l_1 & 1 & 0 \\\\\n",
    "l_3 & l_2 & 1\n",
    "\\end{pmatrix} \\begin{pmatrix}\n",
    "u_1 & u_4 & u_6\\\\\n",
    "0 & u_2 & u_5 \\\\\n",
    "0 & 0 & u_3\n",
    "\\end{pmatrix}$ \n",
    "\n",
    "\n",
    "$u_1 = \\varepsilon \\,\\, u_4 = 1 \\,\\, u_6 = 0$\n",
    "\n",
    "$l_1 u_1 = 1 \\,\\, l_1 u_4 + u_2 = 1 \\,\\, l_1 u_6 + u_5 = 1 \\,\\, \\rightarrow l_1 = 1 / \\varepsilon,\\,\\, u_2 = (\\varepsilon - 1) / \\varepsilon,\\,\\, u_5 = 1$ \n",
    "\n",
    "$l_3 = 0, \\,\\, l_2 u_2 = 1, \\,\\, l_3 u_6 + l_2 u_5 + u_3 = 1 \\rightarrow l_2 = \\varepsilon / (\\varepsilon - 1), \\,\\, u_3 = -1 / (\\varepsilon - 1)$\n",
    "\n",
    "\n",
    "$A = \\begin{pmatrix}\n",
    "\\varepsilon & 1 & 0\\\\\n",
    "1 & 1 & 1 \\\\\n",
    "0 & 1 & 1\n",
    "\\end{pmatrix} = \\begin{pmatrix}\n",
    "1 & 0 & 0\\\\\n",
    "\\frac{1}{\\varepsilon} & 1 & 0 \\\\\n",
    "0 & \\frac{\\varepsilon}{\\varepsilon - 1} & 1\n",
    "\\end{pmatrix} \\begin{pmatrix}\n",
    "\\varepsilon & 1 & 0\\\\\n",
    "0 & \\frac{\\varepsilon - 1}{\\varepsilon} & 1 \\\\\n",
    "0 & 0 & -\\frac{1}{\\varepsilon - 1}\n",
    "\\end{pmatrix}$\n",
    "\n",
    "**2** With pivoting:\n",
    "Let's permute rows of A not to divide by $\\varepsilon$:\n",
    "\n",
    "$A' = \\begin{pmatrix}\n",
    "1 & 1 & 1 \\\\\n",
    "\\varepsilon & 1 & 0\\\\\n",
    "0 & 1 & 1\n",
    "\\end{pmatrix} = \\begin{pmatrix}\n",
    "1 & 0 & 0\\\\\n",
    "l_1 & 1 & 0 \\\\\n",
    "l_3 & l_2 & 1\n",
    "\\end{pmatrix} \\begin{pmatrix}\n",
    "u_1 & u_4 & u_6\\\\\n",
    "0 & u_2 & u_5 \\\\\n",
    "0 & 0 & u_3\n",
    "\\end{pmatrix}$ \n",
    "\n",
    "\n",
    "$u_1 = 1 \\,\\, u_4 = 1 \\,\\, u_6 = 1$\n",
    "\n",
    "$l_1 u_1 = \\varepsilon \\,\\, l_1 u_4 + u_2 = 1 \\,\\, l_1 u_6 + u_5 = 0 \\rightarrow l_1 = \\varepsilon, \\,\\, u_2 = 1 - \\varepsilon \\,\\, u_5 = - \\varepsilon$\n",
    "\n",
    "$l_3 = 0 \\,\\, l_2 u_2 = 1, \\,\\, l_2 u_5 + u_3 = 1 \\rightarrow l_3 = 0, \\, l_2 = 1 / (1 - \\varepsilon), u_3 = 1 / (1 - \\varepsilon)$\n",
    "\n",
    "\n",
    "$A' = \\begin{pmatrix}\n",
    "1 & 1 & 1\\\\\n",
    "\\varepsilon & 1 & 0 \\\\\n",
    "0 & 1 & 1\n",
    "\\end{pmatrix} = \\begin{pmatrix}\n",
    "1 & 0 & 0\\\\\n",
    "\\varepsilon & 1 & 0 \\\\\n",
    "0 & \\frac{1}{1 - \\varepsilon} & 1\n",
    "\\end{pmatrix} \\begin{pmatrix}\n",
    "1 & 1 & 1\\\\\n",
    "0 & 1 - \\varepsilon & -\\varepsilon \\\\\n",
    "0 & 0 & \\frac{1}{1 - \\varepsilon}\n",
    "\\end{pmatrix}$\n",
    "\n",
    "$A' = PA$, where $P = \\begin{pmatrix}\n",
    "0 & 1 & 0\\\\\n",
    "1 & 0 & 0 \\\\\n",
    "0 & 0 & 1\n",
    "\\end{pmatrix}$"
   ]
  },
  {
   "cell_type": "markdown",
   "metadata": {},
   "source": [
    "**(3 pts) Explain, why can the LU decomposition fail to approximate factors  𝐿  and  𝑈  for  |𝜀|≪1  in computer arithmetic?**\n",
    "\n",
    "If $\\varepsilon$ is small enough $1/\\varepsilon$ may overflow to infinity"
   ]
  },
  {
   "cell_type": "markdown",
   "metadata": {},
   "source": [
    "### 3. Block LU (10 pts)\n",
    "\n",
    "Let $A = \\begin{bmatrix} A_{11} & A_{12} \\\\ A_{21} & A_{22} \\end{bmatrix}$ be a block matrix. The goal is to solve the linear system\n",
    "\n",
    "$$\n",
    "     \\begin{bmatrix} A_{11} & A_{12} \\\\ A_{21} & A_{22} \\end{bmatrix} \\begin{bmatrix} u_1 \\\\ u_2 \\end{bmatrix} = \\begin{bmatrix} f_1 \\\\ f_2 \\end{bmatrix}.\n",
    "$$\n",
    "\n",
    "* (2 pts) Using block elimination find matrix $S$ and right-hand side $\\hat{f_2}$ so that $u_2$ can be found from $S u_2 = \\hat{f_2}$. Note that the matrix $S$ is called <font color='red'> Schur complement </font> of the block $A_{11}$.\n",
    "* (4 pts) Using Schur complement properties prove that \n",
    "\n",
    "$$\\det(X+AB) = \\det(X)\\det(I+BX^{-1}A), $$\n",
    "\n",
    "\n",
    "where $X$ - nonsingular square matrix.\n",
    "* (4 pts) Let matrix $F \\in \\mathbb{R}^{m \\times n}$ and $G \\in \\mathbb{R}^{n \\times m}$. Prove that \n",
    "\n",
    "$$\\det(I_m - FG) = \\det(I_n - GF).$$"
   ]
  },
  {
   "cell_type": "markdown",
   "metadata": {},
   "source": [
    "**(2 pts) Using block elimination find matrix  𝑆  and right-hand side  𝑓2^  so that  𝑢2  can be found from  𝑆𝑢2=𝑓2^ . Note that the matrix  𝑆  is called Schur complement of the block  𝐴11**\n",
    "\n",
    "\n",
    "$A_{11}u_1 + A_{12}u_2 = f_1 $\n",
    "\n",
    "$A_{21}u_1 + A_{22}u_2 = f_2$\n",
    "\n",
    "\n",
    "$u_1 = A_{11}^{-1}f_1 - A_{11}^{-1}A_{12}u_2$ \n",
    "\n",
    "$f_2 = A_{21}(A_{11}^{-1}f_1 - A_{11}^{-1}A_{12}u_2) + A_{22}u_2$\n",
    "\n",
    "$(A_{22} - A_{21}A_{11}^{-1}A_{12})u_2 = f_2 - A_{21}A_{11}^{-1}f_1 = \\hat{f_2}$ , \n",
    "\n",
    "$\\hat{f_2} = f_2 - A_{21}A_{11}^{-1}f_1 $\n",
    "\n",
    "$S = A_{22} - A_{21}A_{11}^{-1}A_{12}$"
   ]
  },
  {
   "cell_type": "markdown",
   "metadata": {},
   "source": [
    "**(4 pts) Using Schur complement properties prove that**\n",
    "\n",
    "$$\\det(X+AB) = \\det(X)\\det(I+BX^{-1}A), $$\n",
    "\n",
    "$det\\begin{pmatrix}\n",
    "A & B\\\\\n",
    "0 & C\\\\\n",
    "\\end{pmatrix} = det(A)det(C)$, which is derrived from the definition of the determinant.\n",
    "\n",
    "$\\begin{pmatrix}\n",
    "X & A\\\\\n",
    "-B & I \\\\\n",
    "\\end{pmatrix} = \\begin{pmatrix}\n",
    "X & 0\\\\\n",
    "-B & I\\\\\n",
    "\\end{pmatrix} \\begin{pmatrix}\n",
    "I & X^{-1}A\\\\\n",
    "0 & I + BX^{-1}A \\\\\n",
    "\\end{pmatrix} =\\begin{pmatrix}\n",
    "X + AB & A\\\\\n",
    "0 & I\\\\\n",
    "\\end{pmatrix}\\begin{pmatrix}\n",
    "I & 0\\\\\n",
    "-B & I\\\\\n",
    "\\end{pmatrix}\n",
    "$\n",
    "\n",
    "$det\\begin{pmatrix}\n",
    "X & A\\\\\n",
    "-B & I \\\\\n",
    "\\end{pmatrix} = det(X + AB) = det(X)det(I_n + BX^{-1}A)$"
   ]
  },
  {
   "cell_type": "markdown",
   "metadata": {},
   "source": [
    "* **(4 pts) Let matrix $F \\in \\mathbb{R}^{m \\times n}$ and $G \\in \\mathbb{R}^{n \\times m}$. Prove that** \n",
    "\n",
    "$$\\det(I_m - FG) = \\det(I_n - GF).$$\n",
    "\n",
    "As we obtained above: $\\det(X+AB) = \\det(X)\\det(I+BX^{-1}A)$\n",
    "\n",
    "Desired result can be derrived by substitution $X = I_m, A = -F, B = G$"
   ]
  },
  {
   "cell_type": "markdown",
   "metadata": {
    "slideshow": {
     "slide_type": "fragment"
    }
   },
   "source": [
    "## Problem 2 (QR decomposition) 30 pts\n",
    "\n",
    "### 1. Standard Gram-Schmidt algorithm (18 pts)\n",
    "Our goal is to orthogonalize a system of linearly independent vectors $v_1,\\dots,v_n$.\n",
    "The standard algorithm for this task is the Gram-Schmidt process:\n",
    "\n",
    "$$\n",
    "\\begin{split}\n",
    "u_1 &= v_1, \\\\\n",
    "u_2 &= v_2 - \\frac{(v_2, u_1)}{(u_1, u_1)} u_1, \\\\\n",
    "\\dots \\\\\n",
    "u_n &= v_n - \\frac{(v_n, u_1)}{(u_1, u_1)} u_1 - \\frac{(v_n, u_2)}{(u_2, u_2)} u_2 - \\dots - \\frac{(v_n, u_{n-1})}{(u_{n-1}, u_{n-1})} u_{n-1}.\n",
    "\\end{split}\n",
    "$$\n",
    "\n",
    "Obtained $u_1, \\dots, u_n$ are orthogonal vectors in exact arithmetics. Then to make the system orthonormal you should divide each of the vectors by its norm: $u_i := u_i/\\|u_i\\|$.\n",
    "The Gram-Schmidt process can be considered as a QR decomposition. Let us show that."
   ]
  },
  {
   "cell_type": "markdown",
   "metadata": {},
   "source": [
    "* (2 pts) Write out what is matrices $Q$ and $R$ obtained in the process above. \n",
    "\n",
    "* (5 pts) Implement the described Gram-Schmidt algorithm as a function ```gram_schmidt_qr(A)``` that takes a rectangular matrix ```A``` and outputs ```Q,R```.\n",
    "\n",
    "* (3 pts) Create a rectangular matrix $K = [x, Ax, A^2x, \\ldots, A^kx]$ where $A \\in \\mathbb{R}^{100 \\times 100}$ is a random matrix and $x$ is a random vector of the appropriate dimension, $k = 20$.  \n",
    "The loss of orthogonality can be described by the following error: $\\|Q^{\\top}Q-I\\|_2$, where $Q^{\\top}Q$ is called a Gram matrix. Compute QR decomposition of the created matrix $K$ with function that you have implemented and calculate error $\\|Q^{\\top}Q-I\\|_2$. Comment on the result.\n",
    "\n",
    "* (5 pts) The observed loss of orthogonality is a problem of this particular algorithm. Luckily, there is [a simple improvement to the algorithm above](https://en.wikipedia.org/wiki/Gram–Schmidt_process#Numerical_stability) that reduces the loss of orthogonality. Implement this modification as a function ```modified_gram_schmidt_qr(A)``` such that input and output are similar to ```gram_schmidt_qr(A)```. \n",
    "* (3 pts) Compute QR decomposition of the matrix $K$ from the previous task with the function ```modified_gram_schmidt_qr(A)```.\n",
    "Compute error $\\|Q^{\\top}Q-I\\|_2$. Compare this error to the error obtained with a \"pure\" Gram-Schmidt and comment on the result."
   ]
  },
  {
   "cell_type": "markdown",
   "metadata": {},
   "source": [
    "* (2 pts) Write out what is matrices $Q$ and $R$ obtained in the process above.\n",
    "\n",
    "For $A_{m \\times n}$\n",
    "\n",
    "1) $m \\geq n$ and $rank(A) = n$,\n",
    "We apply Gram-Schmidt process to the columns of $A = [A_{\\bullet 1}, \\ldots, A_{\\bullet n}]$ \n",
    "\n",
    "Let $u_i$ be normalized resulting vectors of this process, then\n",
    "\n",
    "$Q = [u_1, \\ldots, u_n]$\n",
    "\n",
    "$Q^T A = R = \\begin{pmatrix}\n",
    "\\langle u_1, A_{\\bullet 1} \\rangle & \\langle u_1, A_{\\bullet 2} \\rangle & \\ldots & \\langle u_1, A_{\\bullet n} \\rangle \\\\\n",
    "0 & \\langle u_2, A_{\\bullet 2} \\rangle & \\ldots & \\langle u_2, A_{\\bullet n} \\rangle \\\\\n",
    ". & . & \\ldots & . \\\\\n",
    ". & . & \\ldots & . \\\\\n",
    ". & . & \\ldots & . \\\\\n",
    "0 & 0 & \\ldots & \\langle u_n, A_{\\bullet n} \\rangle \\\\\n",
    "\\end{pmatrix}$\n",
    "\n",
    "2) $m < n$ and $rank(A) = m$,\n",
    "We apply Gram-Schmidt process to the rows of $A = [A_{1\\bullet}, \\ldots, A_{m\\bullet}]^T$ \n",
    "\n",
    "Let $u_i$ be normalized resulting vectors of this process, then\n",
    "\n",
    "$Q = [u_1[:m], \\ldots, u_m[:m]]$ as $Q$ is required to be $m \\times m$ \n",
    "\n",
    "$Q^T A = R = \\begin{pmatrix}\n",
    "\\langle u_1, A_{1\\bullet } \\rangle & \\langle u_1, A_{2\\bullet } \\rangle & \\ldots & \\langle u_1, A_{m\\bullet } \\rangle \\\\\n",
    "0 & \\langle u_2, A_{2\\bullet } \\rangle & \\ldots & \\langle u_2, A_{m\\bullet } \\rangle \\\\\n",
    ". & . & \\ldots & . \\\\\n",
    ". & . & \\ldots & . \\\\\n",
    ". & . & \\ldots & . \\\\\n",
    "0 & 0 & \\ldots & \\langle u_n, A_{m\\bullet } \\rangle \\\\\n",
    "\\end{pmatrix}$"
   ]
  },
  {
   "cell_type": "code",
   "execution_count": 4,
   "metadata": {},
   "outputs": [],
   "source": [
    "def projection(v, u):\n",
    "    return (u * np.inner(v, u)) / np.inner(u, u)\n",
    "\n",
    "def gram_schmidt_q(A):\n",
    "    Q = np.zeros(A.shape)\n",
    "    \n",
    "    Q[:, 0] = A[:, 0] / np.linalg.norm(A[:, 0], 2)   \n",
    "    for i in range(1, A.shape[1]):\n",
    "        v = A[:, i]\n",
    "        projections = np.array([projection(v, u) for u in Q.T[:i,:]]).sum(axis=0)\n",
    "        Q[:, i] = v - projections\n",
    "        Q[:, i] /= np.linalg.norm(Q[:,i], 2)\n",
    "        \n",
    "    return Q\n",
    "\n",
    "\n",
    "# INPUT : rectangular matrix A\n",
    "# OUTPUT: matrices Q - orthogonal and R - upper triangular such that A = QR\n",
    "def gram_schmidt_qr(A): # 5 pts\n",
    "    if A.shape[0] >= A.shape[1]:\n",
    "        Q = gram_schmidt_q(A)\n",
    "        \n",
    "        # Force R to be upper triangular\n",
    "        R = (Q.T @ A) * np.tri(A.shape[1], Q.T.shape[0], 0).T\n",
    "        return Q, R\n",
    "    \n",
    "    else:\n",
    "        Q = gram_schmidt_q(A.T)\n",
    "        Q = Q.T[:, :A.shape[0]]\n",
    "        \n",
    "        # Force R to be upper triangular\n",
    "        R = (Q.T @ A) * np.tri(A.shape[1], Q.T.shape[0], 0).T\n",
    "        return Q, R\n",
    "\n",
    "    \n",
    "def modified_gram_schmidt_q(A):\n",
    "    Q = np.zeros(A.shape)\n",
    "    \n",
    "    Q[:, 0] = A[:, 0] / np.linalg.norm(A[:, 0], 2)\n",
    "    for i in range(1, A.shape[1]):\n",
    "        v = A[:, i]\n",
    "        \n",
    "        Q[:, i] = v - projection(v, Q[:, 0])\n",
    "        for j in range(1, i):\n",
    "            u = Q[:, i] \n",
    "            Q[:, i] = u - projection(u, Q[:, j])\n",
    "            \n",
    "        Q[:, i] /= np.linalg.norm(Q[:,i], 2)\n",
    "    \n",
    "    return Q\n",
    "\n",
    "\n",
    "# INPUT : rectangular matrix A\n",
    "# OUTPUT: matrices Q - orthogonal and R - upper triangular such that A = QR\n",
    "def modified_gram_schmidt_qr(A): # 5 pts\n",
    "    if A.shape[0] >= A.shape[1]:\n",
    "        Q = modified_gram_schmidt_q(A)\n",
    "        \n",
    "        # Force R to be upper triangular\n",
    "        R = (Q.T @ A) * np.tri(A.shape[1], Q.T.shape[0], 0).T\n",
    "        return Q, R\n",
    "    \n",
    "    else:\n",
    "        Q = modified_gram_schmidt_q(A.T)\n",
    "        Q = Q.T[:, :A.shape[0]]\n",
    "        \n",
    "        # Force R to be upper triangular\n",
    "        R = (Q.T @ A) * np.tri(A.shape[1], Q.T.shape[0], 0).T\n",
    "        return Q, R"
   ]
  },
  {
   "cell_type": "code",
   "execution_count": 5,
   "metadata": {},
   "outputs": [],
   "source": [
    "A = np.random.rand(100, 100)\n",
    "x = np.random.rand(100)\n",
    "K = np.zeros((100, 100))\n",
    "k = 20\n",
    "K[:, 0] = x\n",
    "K = np.array([x] + [A @ K[i - 1] for i in range(1, k)]).T"
   ]
  },
  {
   "cell_type": "code",
   "execution_count": 6,
   "metadata": {},
   "outputs": [
    {
     "data": {
      "text/plain": [
       "18.353823058740986"
      ]
     },
     "execution_count": 6,
     "metadata": {},
     "output_type": "execute_result"
    }
   ],
   "source": [
    "Q, R = gram_schmidt_qr(K)\n",
    "np.linalg.norm(Q.T @ Q - np.eye(Q.shape[1]))"
   ]
  },
  {
   "cell_type": "code",
   "execution_count": 7,
   "metadata": {},
   "outputs": [
    {
     "data": {
      "text/plain": [
       "1.9363897546347437"
      ]
     },
     "execution_count": 7,
     "metadata": {},
     "output_type": "execute_result"
    }
   ],
   "source": [
    "Q, R = modified_gram_schmidt_qr(K)\n",
    "np.linalg.norm(Q.T @ Q - np.eye(Q.shape[1]))"
   ]
  },
  {
   "cell_type": "markdown",
   "metadata": {},
   "source": [
    "### 2. Updating QR decompositions (12 pts)\n",
    "\n",
    "Suppose we are dealing with overdetermined system:\n",
    "\n",
    "$$ Ax = y, \\;\\; A \\in \\mathbb{R}^{m \\times n}, \\;\\;  m \\geq n. $$\n",
    "\n",
    "If you were attentive during the course, you should be aware of \n",
    "the canonical way to solve this system. \n",
    "\n",
    "- No, implementing **Householder $QR$** will not be your task :)\n",
    "\n",
    "- We assume that $QR$ decomposition of $A$ **is given**:\n",
    "\n",
    "$$ QR = A = \\begin{bmatrix}a_1 & a_2 & \\ldots & a_n \\end{bmatrix}, \\;\\; a_i \\in \\mathbb{R}^m,$$\n",
    "\n",
    "where $Q \\in \\mathbb{R}^{m \\times m}$ is unitary matrix and $R \\in \\mathbb{R}^{m \\times n}$ is upper triangular.\n",
    "\n",
    "- Let $k$ be an arbitrary column index, $1 \\leq k \\leq n$, and $z \\in \\mathbb{R}^{m}$ be an arbitrary vector.\n",
    "\n",
    "We are interested in matrices:\n",
    "\n",
    "$$ \\tilde{A} = \\begin{bmatrix}a_1 & \\ldots & a_{k-1} & a_{k+1} & \\ldots a_n \\end{bmatrix} \\in \\mathbb{R}^{m \\times (n-1)},$$\n",
    "\n",
    "and:\n",
    "\n",
    "$$ \\hat{A} = \\begin{bmatrix}a_1 & \\ldots & a_{k} & z & a_{k+1} & \\ldots a_n \\end{bmatrix} \\in \\mathbb{R}^{m \\times (n+1)},$$\n",
    "\n",
    "which are obtained by deleting / inserting one column from / to the matrix $A$.\n",
    "\n",
    "For example, if $A$ comes from a least-squares problem, such matrices appear if one wants to examine the significance of the $k^{th}$ parameter in the underlying model (e.g. think in terms of linear regression).\n",
    "\n",
    "- We want to compute decompostions of these updated matrices:\n",
    "\n",
    "$$ \\tilde{A} = \\tilde{Q}\\tilde{R}, \\;\\; \\hat{A} = \\hat{Q}\\hat{R}. $$\n",
    "\n",
    "Performing full orthogonalization process will be redundant. Instead, the known $QR$ factors of $A$ should be **updated** in a proper way.\n",
    "\n",
    "- Different methods for performing $QR$ decomposition were studied during the course. We expect the factors of updated matrices can be recovered with a small number of selective updates, hence the **Givens rotations** seem to be the most appropriate.\n",
    "\n",
    "- Recall the Givens rotation matrix :\n",
    "\n",
    "$$G_{ij}(\\theta) = \\begin{bmatrix} \n",
    "1      & \\ldots & 0      & \\ldots & 0      & \\ldots & 0      \\\\\n",
    "\\vdots & \\ddots & \\vdots &        & \\vdots &        & \\vdots \\\\\n",
    "0      & \\ldots & c      & \\ldots & s      & \\ldots & 0      \\\\\n",
    "\\vdots &        & \\vdots & \\ddots & \\vdots &        & \\vdots \\\\\n",
    "0      & \\ldots & -s     & \\ldots & c      & \\ldots & 0      \\\\\n",
    "\\vdots &        & \\vdots &        & \\vdots & \\ddots & \\vdots \\\\\n",
    "0      & \\ldots & 0      & \\ldots & 0      & \\ldots & 1      \n",
    "\\end{bmatrix}  \\;\\; \\in \\mathbb{R}^{m \\times m}, \\;\\; c = \\cos \\theta, \\;\\; s = \\sin \\theta,$$ \n",
    "\n",
    "which differs from the identity $\\mathrm{I}^{m \\times m}$ by a $2 \\times 2$ sub-matrix:\n",
    "\n",
    "$$\n",
    "{G}(\\theta) = \\begin{bmatrix} c & s \\\\ -s & c \\end{bmatrix} \\in \\mathbb{R}^{2 \\times 2},\n",
    "$$\n",
    "placed on the rows and columns with indices $i$ and $j$. \n",
    "\n",
    "1. (1 pts)\n",
    "Matrix ${G}$ has clear geometric interpretation in 2 dimensions. Let  $a = \\begin{pmatrix} a_1 \\\\ a_2 \\end{pmatrix} \\in \\mathbb{R}^2$ be an arbitrary non-zero vector. According to the template provided below, implement the function to construct matrix $G$, such that:\n",
    "\n",
    "$$ {G}^T \\begin{pmatrix} a_1 \\\\ a_2 \\end{pmatrix} = \\begin{pmatrix} \\alpha \\\\ 0 \\end{pmatrix}.$$\n",
    "\n",
    "What are geometrical meanings of $\\alpha$ and $\\theta$? \n"
   ]
  },
  {
   "cell_type": "code",
   "execution_count": 6,
   "metadata": {},
   "outputs": [
    {
     "data": {
      "text/plain": [
       "array([ 2.86075558e-01, -9.00193931e-18])"
      ]
     },
     "execution_count": 6,
     "metadata": {},
     "output_type": "execute_result"
    }
   ],
   "source": [
    "def givens(a):\n",
    "    '''\n",
    "    Input: \n",
    "        a: np.array of size (2)\n",
    "    Output: \n",
    "        G: np.array of size (2, 2)\n",
    "            Rotation matrix, G^T eliminates the second component of a\n",
    "    '''\n",
    "\n",
    "    c = a[0] / np.linalg.norm(a)\n",
    "    s = - a[1] / np.linalg.norm(a)\n",
    "    \n",
    "    return np.array([[c, s], [-s, c]])\n",
    "\n",
    "# Check yourself \n",
    "a = np.random.rand(2)\n",
    "givens(a).T.dot(a) "
   ]
  },
  {
   "cell_type": "markdown",
   "metadata": {},
   "source": [
    "$\\alpha$ is norm of the vector $a$, $\\theta$ is an angle by which vector $a$ should be rotated clockwise."
   ]
  },
  {
   "cell_type": "markdown",
   "metadata": {},
   "source": [
    "- Similarly, matrix $G_{ij}$ can be constructed in order to eliminate the $j^{th}$ component of an arbitrary vector of size $m$. This leads to the well-known **Givens $QR$ algorithm** (see lecture notes!).\n",
    "\n",
    "- Givens rotations typically appear in matrix form:\n",
    "\n",
    "$$ G_{ij}^T X, \\;\\; X^{'}G_{ij},$$\n",
    "\n",
    "where $X$ and $X^{'}$ are some matrices with compatible sizes, e.g. intermediate factors in the **Givens $QR$ algorithm**. \n",
    "\n",
    "How to perform these multiplications efficiently? \n",
    "Obviously, $G_{ij}$ does not need to be stored in explicit form. It affects only two rows / columns, hence only appropriate submatrices should be modified.\n",
    "\n",
    "2. (5 pts) Your second task is to propose an efficient procedure for computing $\\tilde{Q}, \\tilde{R}$ factors of $\\tilde{A}$ by a proper update of $Q, R$ factors of $A$. \n",
    "\n",
    "Hint: consider the following block partition of $R$ (assuming $k^{th}$ column deleted):\n",
    "$$ R = \n",
    "\\begin{bmatrix} \n",
    "R_{11} & v & R_{13} \\\\\n",
    "0 & r_{kk} & \\omega^T \\\\\n",
    "0 & 0 & R^{33}\n",
    "\\end{bmatrix},\n",
    "$$\n",
    "and note, that:\n",
    "$$Q^T\\tilde{A} = \n",
    "\\begin{bmatrix}\n",
    "R_{11} & R_{13} \\\\\n",
    "0 & \\omega^T \\\\\n",
    "0 & R_{33}\n",
    "\\end{bmatrix} = H.$$\n",
    "\n",
    "- (2 pts) What structure has matrix $H$ and how does it help in understanding the proper way to compute updated QR decomposition?\n",
    "\n",
    "- (3 pts) Implement the function according to the template provided below.\n",
    "Use Givens matrices $G_{ij}$ with $j = i+1$ for the convinience.\n",
    "\n",
    "- Only one loop over non-zero subdiagonal elements of $H$ is allowed. You are supposed to perform computations in a proper vectorized form. For example, the *in-place* multiplication $G_{ij}^T X$ with a random matrix $X \\in \\mathbb{R}^{m \\times n}$ can be implemented as follows: ```X[[i,j],:] = G.T.dot(X[[i,j],:])```. \n",
    "\n",
    "- Do not modify elements which are known to be zero.\n"
   ]
  },
  {
   "cell_type": "markdown",
   "metadata": {},
   "source": [
    "$H$ has a form of:\n",
    "\n",
    "$$H = \\begin{bmatrix} \n",
    "R^{11}_{1, 1}      & \\ldots & R^{11}_{1, k-1} & R^{13}_{1, k+1}      & \\ldots & \\ldots & \\ldots & R^{13}_{1, n}      \\\\\n",
    "\\vdots & \\ddots & \\vdots &  \\vdots   & \\vdots  & \\vdots \\\\\n",
    "0      & \\ldots & R^{11}_{k-1, k-1}     s &   R^{13}_{k-1, k+1}    & \\ldots & \\ldots & \\ldots & R^{13}_{k-1, n}     \\\\\n",
    "0 &   \\ldots     & 0 & \\omega^T_0 & \\omega^T_1 & \\ldots &  \\ldots & \\omega^T_{n-k} \\\\\n",
    "0      & \\ldots & 0 & R^{33}_{k+1, k+1}    & R^{33}_{k+1, k+2} & \\ldots & R^{33}_{k+1, n}      \\\\\n",
    "0 & \\ldots & 0 & 0 & R^{33}_{k+2, k+2} & \\ldots & \\ldots & R^{33}_{k+2, n}\\\\\n",
    "\\vdots &        & \\vdots &        & \\ddots & \\vdots\\\\\n",
    "0      & \\ldots & 0      & \\ldots & 0      & \\ldots & \\ldots & R^{33}_{n, n} \\\\\n",
    "\\vdots &        & \\vdots &        & \\vdots & \\vdots \\\\\n",
    "0 & 0 & 0 & 0 & 0 & 0 & 0 & 0\n",
    "\\end{bmatrix}$$\n",
    "\n",
    "So if we will set to 0 all diagonal elements of $R^{33}$ the resulting matrix will be the one we desire"
   ]
  },
  {
   "cell_type": "code",
   "execution_count": 7,
   "metadata": {
    "scrolled": false
   },
   "outputs": [
    {
     "name": "stdout",
     "output_type": "stream",
     "text": [
      "5.319600229494766e-14\n"
     ]
    }
   ],
   "source": [
    "def delete_column_QR(A, k):\n",
    "    '''\n",
    "    Input: \n",
    "        A: np.array of size (m, n) \n",
    "            \n",
    "        k: positive integer\n",
    "            Index of deleted column, 0 \\leq k \\leq n - 1\n",
    "        \n",
    "    Output: \n",
    "        Q: np.array of size (m, m)\n",
    "        \n",
    "        R: np.array of size (m, n - 1)\n",
    "\n",
    "    '''\n",
    "    Q, R = np.linalg.qr(A, mode='complete') # factors of $A$ are known\n",
    "    R = np.delete(R, k, axis = 1) # delete column\n",
    "    \n",
    "    for j in range(R.shape[1] - 1, -1, -1):\n",
    "        target = R[j:j+2, j]\n",
    "        G = givens(target)\n",
    "#         c = target[0] / np.linalg.norm(target)\n",
    "#         s = \n",
    "#         Rj = R[:, j:]\n",
    "#         for j in range(Rj.shape[1]):\n",
    "        R[[j,j+1],:] = G.T.dot(R[[j,j+1],:])\n",
    "        Q[:, [j,j+1]] = Q[:, [j,j+1]].dot(G)\n",
    "    return Q, R\n",
    "\n",
    "# Check yourself\n",
    "m, n = (200, 100)\n",
    "A = np.random.rand(m, n)\n",
    "k = np.random.randint(0, n)\n",
    "A_tilde = np.delete(A, k, axis=1)\n",
    "Q_tilde, R_tilde = delete_column_QR(A, k)\n",
    "print(np.linalg.norm(A_tilde - Q_tilde.dot(R_tilde)))"
   ]
  },
  {
   "cell_type": "markdown",
   "metadata": {},
   "source": [
    "3. (3 pts) When a column is inserted, the factors $\\hat{Q}, \\hat{R}$ of $\\hat{A}$ again can be computed efficiently by a proper update of $Q, R$ factors of $A$.\n",
    "\n",
    "\n",
    "- Proceed similarly to the previous task. Implement the function according to the template provided below. \n",
    "\n",
    "- Choose optimal order of elimination to minimize the number of rotations."
   ]
  },
  {
   "cell_type": "markdown",
   "metadata": {},
   "source": [
    "$$ \\hat R = \n",
    "\\begin{bmatrix} \n",
    "R_{11} & z'_{1..k-1} & R_{13} \\\\\n",
    "0 & z'_{k} & \\omega^T \\\\\n",
    "0 & z'_{k+1..m} & R^{33}\n",
    "\\end{bmatrix},\n",
    "$$\n",
    "\n",
    "\n",
    "So we need to compute $z'$ and then eliminate $z'_{k+1..m}$ and elements under the diagonal"
   ]
  },
  {
   "cell_type": "code",
   "execution_count": 86,
   "metadata": {},
   "outputs": [
    {
     "name": "stdout",
     "output_type": "stream",
     "text": [
      "5.874600281306524e-14\n"
     ]
    }
   ],
   "source": [
    "def insert_column_QR(A, k, z):\n",
    "    '''\n",
    "    Input: \n",
    "        A: np.array of size (m, n) \n",
    "            \n",
    "        k: positive integer\n",
    "            Index of inserted column, 0 \\leq k leq n - 1\n",
    "            \n",
    "        z: np.array of size (m)\n",
    "            Inserted column\n",
    "        \n",
    "    Output: \n",
    "        Q: np.array of size (m, m)\n",
    "        \n",
    "        R: np.array of size (m, n + 1)\n",
    "    '''\n",
    "    Q, R = np.linalg.qr(A, mode='complete') # factors of $A$ are known\n",
    "    \n",
    "    z_R = Q.T @ z\n",
    "    R = np.insert(R, k, z_R, axis=1)\n",
    "    \n",
    "    for j in range(R.shape[0] - 1, R.shape[1] - 1, -1):\n",
    "        #eliminate z'\n",
    "        target = R[j-1:j+1, k]\n",
    "#         print(target.shape)\n",
    "        G = givens(target)\n",
    "        \n",
    "        R[[j-1,j],:] = G.T.dot(R[[j-1,j],:])\n",
    "        Q[:, [j-1,j]] = Q[:, [j-1,j]].dot(G)\n",
    "        \n",
    "    for j in range(R.shape[1] - 1, k, -1):\n",
    "        \n",
    "        #eliminate z'\n",
    "        target = R[j-1:j+1, k]\n",
    "        G = givens(target)\n",
    "        \n",
    "        R[[j-1,j],:] = G.T.dot(R[[j-1,j],:])\n",
    "        Q[:, [j-1,j]] = Q[:, [j-1,j]].dot(G)\n",
    "        \n",
    "        #eliminate subdiagonal\n",
    "        target = R[j:j+2, j]\n",
    "        G = givens(target)\n",
    "        \n",
    "        R[[j,j+1],:] = G.T.dot(R[[j,j+1],:])\n",
    "        Q[:, [j,j+1]] = Q[:, [j,j+1]].dot(G)\n",
    "        \n",
    "    \n",
    "    return Q, R\n",
    "\n",
    "\n",
    "# Check yourself\n",
    "m, n = (200, 100)\n",
    "A = np.random.rand(m, n)\n",
    "k = np.random.randint(0, n)\n",
    "z = np.random.rand(m)\n",
    "A_hat = np.insert(A, k, z, axis=1)\n",
    "Q_hat, R_hat = insert_column_QR(A, k, z)\n",
    "print(np.linalg.norm(A_hat - Q_hat.dot(R_hat)))"
   ]
  },
  {
   "cell_type": "code",
   "execution_count": 87,
   "metadata": {},
   "outputs": [
    {
     "data": {
      "text/plain": [
       "array([0., 0., 0., 0., 0., 0., 0., 0., 0., 0., 0., 0., 0., 0., 0., 0., 0.,\n",
       "       0., 0., 0., 0., 0., 0., 0., 0., 0., 0., 0., 0., 0., 0., 0., 0., 0.,\n",
       "       0., 0., 0., 0., 0., 0., 0., 0., 0., 0., 0., 0., 0., 0., 0., 0., 0.,\n",
       "       0., 0., 0., 0., 0., 0., 0., 0., 0., 0., 0., 0., 0., 0., 0., 0., 0.,\n",
       "       0., 0., 0., 0., 0., 0., 0., 0., 0., 0., 0., 0., 0., 0., 0., 0., 0.,\n",
       "       0., 0., 0., 0., 0., 0., 0., 0., 0., 0., 0., 0., 0., 0., 0., 0.])"
      ]
     },
     "execution_count": 87,
     "metadata": {},
     "output_type": "execute_result"
    }
   ],
   "source": [
    "np.diag(R_hat, k=-1)"
   ]
  },
  {
   "cell_type": "markdown",
   "metadata": {},
   "source": [
    "4. (3 pts) In the context of least-squares problems, appending rows to a matrix is just as important as inserting columns (e.g. new samples in linear regression).\n",
    "\n",
    "Consider matrix:\n",
    "\n",
    "$$ \\overline{A} = \\begin{bmatrix} \\omega^T \\\\ A \\end{bmatrix} \\in \\mathbb{R}^{(m+1) \\times n},$$\n",
    "\n",
    "which is obtained by appending a row $\\omega^T \\in \\mathbb{R}^{n}$ to the matrix $A$.\n",
    "\n",
    "Similarly to the previous tasks, you need to compute $\\overline{Q}, \\overline{R}$ factors of $\\overline{A}$ by a proper update of $Q,R$ factors of $A$.\n",
    "\n",
    "- Implement the function according to the template provided below. Your code is still expected to be efficient!"
   ]
  },
  {
   "cell_type": "markdown",
   "metadata": {},
   "source": [
    "$$ x'_i =  x_i\\cos \\alpha - x_j\\sin \\alpha , \\quad x'_j = x_i \\sin \\alpha  +  x_j\\cos\\alpha, $$ \n",
    "$$ \\cos \\alpha = \\frac{x_i}{\\sqrt{x_i^2 + x_j^2}}, \\quad \\sin \\alpha = -\\frac{x_j}{\\sqrt{x_i^2 + x_j^2}} $$"
   ]
  },
  {
   "cell_type": "code",
   "execution_count": 18,
   "metadata": {},
   "outputs": [
    {
     "name": "stdout",
     "output_type": "stream",
     "text": [
      "6.932564752696763e-14\n"
     ]
    }
   ],
   "source": [
    "def insert_row_QR(A, w):\n",
    "    '''\n",
    "    Input: \n",
    "        A: np.array of size (m, n)\n",
    "\n",
    "        w: np.array of size (n)\n",
    "            Inserted row\n",
    "        \n",
    "    Output:\n",
    "        Q: np.array of size (m + 1, m + 1)\n",
    "        \n",
    "        R: np.array of size (m + 1, n)\n",
    "    '''\n",
    "    Q, R = np.linalg.qr(A, mode='complete')\n",
    "    \n",
    "    u, r = np.zeros((1, A.shape[0])), np.zeros((A.shape[0] + 1, 1))\n",
    "    r[0, 0] = 1\n",
    "    Q = np.hstack([np.vstack([u, Q]), r])\n",
    "    \n",
    "    R = np.vstack([R, w])\n",
    "    \n",
    "    for j in range(0, R.shape[1]):\n",
    "        target = [R[j, j], R[-1, j]]\n",
    "        G = givens(target)\n",
    "        R[[j,-1],:] = G.T.dot(R[[j,-1],:])\n",
    "        Q[:, [j,-1]] = Q[:, [j,-1]].dot(G)\n",
    "    \n",
    "    return Q, R\n",
    "\n",
    "# Check yourself\n",
    "m, n = (200, 100)\n",
    "A = np.random.rand(m, n)\n",
    "w = np.random.rand(n)\n",
    "A_overline = np.insert(A, 0, w, axis=0)\n",
    "Q_overline, R_overline = insert_row_QR(A, w)\n",
    "print(np.linalg.norm(A_overline - Q_overline.dot(R_overline)))"
   ]
  },
  {
   "cell_type": "markdown",
   "metadata": {},
   "source": [
    "## Problem 3 (Word2Vec as Matrix Factorization) 45 pts\n",
    "\n",
    "In this assignment you are supposed to apply SVD to training your own [word embedding model](https://en.wikipedia.org/wiki/Word_embedding) which maps English words to vectors of real numbers.\n",
    "\n",
    "Skip-Gram Negative Sampling (SGNS) word embedding model, commonly known as **word2vec** ([Mikolov et al., 2013](http://papers.nips.cc/paper/5021-distributed-representations-of-words-and-phrases-and-their-compositionality.pdf)), is usually optimized by stochastic gradient descent. However, the optimization of SGNS objective can be viewed as implicit matrix factorization objective as was shown in ([Levy and Goldberg, 2015](http://papers.nips.cc/paper/5477-neural-word-embedding-as-implicit-matrix-factorization.pdf))."
   ]
  },
  {
   "cell_type": "markdown",
   "metadata": {},
   "source": [
    "###### 1. Notation\n",
    "Assume we have a text corpus given as a sequence of words $\\{w_1,w_2,\\dots,w_n\\}$ where $n$ may be larger than $10^{12}$ and $w_i \\in \\mathcal{V}$ belongs to a vocabulary of words $\\mathcal{V}$. A word $c \\in \\mathcal{V}$ is called *a context* of word $w_i$ if they are found together in the text. More formally, given some measure $L$ of closeness between two words (typical choice is $L=2$), a word $c \\in \\mathcal{V}$ is called a context if $c \\in \\{w_{i-L}, \\dots, w_{i-1}, w_{i+1}, \\dots, w_{i+L} \\}$ Let $\\mathbf{w},\\mathbf{c}\\in\\mathbb{R}^d$ be the *word embeddings* of word $w$ and context $c$, respectively. Assume they are specified by the mapping  $\\Phi:\\mathcal{V}\\rightarrow\\mathbb{R}^d$, so $\\mathbf{w}=\\Phi(w)$. The ultimate goal of SGNS word embedding model is to fit a good mapping $\\Phi$.\n",
    "\n",
    "Let $\\mathcal{D}$ be a multiset of all word-contexts pairs observed in the corpus. In the SGNS model, the probability that word-context pair $(w,c)$ is observed in the corpus is modeled as the following distribution:\n",
    "\n",
    "$$\n",
    "P(\\#(w,c)\\neq 0|w,c) = \\sigma(\\mathbf{w}^\\top \\mathbf{c}) = \\frac{1}{1 + \\exp(-\\mathbf{w}^\\top \\mathbf{c})},\n",
    "$$\n",
    "\n",
    "where $\\#(w,c)$ is the number of times the pair $(w,c)$ appears in $\\mathcal{D}$ and $\\mathbf{w}^\\top\\mathbf{c}$ is the scalar product of vectors $\\mathbf{w}$ and $\\mathbf{c}$. Two important quantities which we will also use further are the number of times the word $w$ and the context $c$ appear in $\\mathcal{D}$, which can be computed as\n",
    "\n",
    "$$\n",
    "\\#(w) = \\sum_{c\\in\\mathcal{V}} \\#(w,c), \\quad \\#(c) = \\sum_{w\\in\\mathcal{V}} \\#(w,c).\n",
    "$$\n"
   ]
  },
  {
   "cell_type": "markdown",
   "metadata": {},
   "source": [
    "###### 2. Optimization objective"
   ]
  },
  {
   "cell_type": "markdown",
   "metadata": {},
   "source": [
    "Vanilla word embedding models are trained by maximizing log-likelihood of observed word-context pairs, namely\n",
    "\n",
    "$$\n",
    "\\mathcal{L} = \\sum_{w \\in \\mathcal{V}} \\sum_{c \\in \\mathcal{V}} \\#(w,c) \\log \\sigma(\\mathbf{w}^\\top\\mathbf{c}) \\rightarrow \\max_{\\mathbf{w},\\mathbf{c} \\in \\mathbb{R}^d}.\n",
    "$$"
   ]
  },
  {
   "cell_type": "markdown",
   "metadata": {},
   "source": [
    "Skip-Gram Negative Sampling approach modifies the objective by additionally minimizing the log-likelihood of random word-context pairs, so called *negative samples*. This idea incorporates some useful linguistic information that some number ($k$, usually $k=5$) of word-context pairs *are not* found together in the corpus which usually results in word embeddings of higher quality. The resulting optimization problem is\n",
    "\n",
    "$$\n",
    "\\mathcal{L} = \\sum_{w \\in \\mathcal{V}} \\sum_{c \\in \\mathcal{V}} \\left( \\#(w,c) \\log \\sigma(\\mathbf{w}^\\top\\mathbf{c}) + k \\cdot \\mathbb{E}_{c'\\sim P_\\mathcal{D}} \\log \\sigma (-\\mathbf{w}^\\top\\mathbf{c}) \\right) \\rightarrow \\max_{\\mathbf{w},\\mathbf{c} \\in \\mathbb{R}^d},\n",
    "$$\n",
    "\n",
    "where $P_\\mathcal{D}(c)=\\frac{\\#(c)}{|\\mathcal{D}|}$ is a probability distribution over word contexts from which negative samples are drawn."
   ]
  },
  {
   "cell_type": "markdown",
   "metadata": {},
   "source": [
    "[Levy and Goldberg, 2015](http://papers.nips.cc/paper/5477-neural-word-embedding-as-implicit-matrix-factorization.pdf) showed that this objective can be equivalently written as\n",
    "\n",
    "$$\n",
    "\\mathcal{L} = \\sum_{w \\in \\mathcal{V}} \\sum_{c \\in \\mathcal{V}} f(w,c) = \\sum_{w \\in \\mathcal{V}} \\sum_{c \\in \\mathcal{V}} \\left( \\#(w,c) \\log \\sigma(\\mathbf{w}^\\top\\mathbf{c}) + \\frac{k\\cdot\\#(w)\\cdot\\#(c)}{|\\mathcal{D}|} \\log \\sigma (-\\mathbf{w}^\\top\\mathbf{c}) \\right) \\rightarrow \\max_{\\mathbf{w},\\mathbf{c} \\in \\mathbb{R}^d},\n",
    "$$\n",
    "\n",
    "A crucial observation is that this loss function depends only on the scalar product $\\mathbf{w}^\\top\\mathbf{c}$ but not on embedding $\\mathbf{w}$ and $\\mathbf{c}$ separately."
   ]
  },
  {
   "cell_type": "markdown",
   "metadata": {},
   "source": [
    "###### 3. Matrix factorization problem statement"
   ]
  },
  {
   "cell_type": "markdown",
   "metadata": {},
   "source": [
    "Let $|\\mathcal{V}|=m$, $W \\in \\mathbb{R}^{m\\times d}$ and $C \\in \\mathbb{R}^{m\\times d}$ be matrices, where each row $\\mathbf{w}\\in\\mathbb{R}^d$ of matrix $W$ is the word embedding of the corresponding word $w$ and each row $\\mathbf{c}\\in\\mathbb{R}^d$ of matrix $C$ is the context embedding of the corresponding context $c$. SGNS embeds both words and their contexts into a low-dimensional space $\\mathbb{R}^d$, resulting in the word and context matrices $W$ and $C$. The rows of matrix $W$ are typically used in NLP tasks (such as computing word similarities) while $C$ is ignored. It is nonetheless instructive to consider the product $W^\\top C = M$. Viewed this way, SGNS can be described as factorizing an implicit matrix $M$ of dimensions $m \\times m$ into two smaller matrices.\n",
    "\n",
    "Which matrix is being factorized? A matrix entry $M_{wc}$ corresponds to the dot product $\\mathbf{w}^\\top\\mathbf{c}$ . Thus, SGNS is factorizing a matrix in which each row corresponds to a word $w \\in \\mathcal{V}$ , each column corresponds to a context $c \\in \\mathcal{V}$, and each cell contains a quantity $f(w,c)$ reflecting the strength of association between that particular word-context pair. Such word-context association matrices are very common in the NLP and word-similarity literature. That said, the objective of SGNS does not explicitly state what this association metric is. What can we say about the association function $f(w,c)$? In other words, which matrix is SGNS factorizing? Below you will find the answers."
   ]
  },
  {
   "cell_type": "markdown",
   "metadata": {},
   "source": [
    "### Task 1 (theoretical) 9 pts"
   ]
  },
  {
   "cell_type": "markdown",
   "metadata": {},
   "source": [
    "Solve SGNS optimization problem with respect to the $\\mathbf{w}^\\top\\mathbf{c}$ and show that the matrix being factorized is\n",
    "\n",
    "$$\n",
    "M_{wc} = \\mathbf{w}^\\top\\mathbf{c} = \\log \\left( \\frac{\\#(w,c) \\cdot |\\mathcal{D}|}{k\\cdot\\#(w)\\cdot\\#(c)} \\right)\n",
    "$$\n",
    "\n",
    "**Hint:** Denote $x=\\mathbf{w}^\\top\\mathbf{c}$, rewrite SGNG optimization problem in terms of $x$ and solve it."
   ]
  },
  {
   "cell_type": "markdown",
   "metadata": {},
   "source": [
    "**Note:** This matrix is called Shifted Pointwise Mutual Information (SPMI) matrix, as its elements can be written as\n",
    "\n",
    "$$\n",
    "\\text{SPMI}(w,c) = M_{wc} = \\mathbf{w}^\\top\\mathbf{c} = \\text{PMI}(w,c) - \\log k\n",
    "$$\n",
    "\n",
    "and $\\text{PMI}(w,c) = \\log \\left( \\frac{\\#(w,c) \\cdot |\\mathcal{D}|}{\\#(w)\\cdot\\#(c)} \\right)$ is the well-known [pointwise mutual information](https://en.wikipedia.org/wiki/Pointwise_mutual_information) of $(w,c)$."
   ]
  },
  {
   "cell_type": "markdown",
   "metadata": {},
   "source": [
    "$\\mathcal{L} = \\sum_{w \\in \\mathcal{V}} \\sum_{c \\in \\mathcal{V}} \\left( \\#(w,c) \\log \\sigma(\\mathbf{w}^\\top\\mathbf{c}) + k \\cdot \\mathbb{E}_{c'\\sim P_\\mathcal{D}} \\log \\sigma (-\\mathbf{w}^\\top\\mathbf{c}) \\right) = $\n",
    "$\\sum_{w \\in \\mathcal{V}} \\sum_{c \\in \\mathcal{V}} \\left( \\#(w,c) \\log \\sigma(\\mathbf{w}^\\top\\mathbf{c}) \\right) + \\sum_{w \\in \\mathcal{V}} \\sum_{c \\in \\mathcal{V}} \\left( \\#(w,c) \\cdot k \\cdot \\mathbb{E}_{c'\\sim P_\\mathcal{D}} \\log \\sigma (-\\mathbf{w}^\\top\\mathbf{c}) \\right) = $\n",
    "$\\sum_{w \\in \\mathcal{V}} \\sum_{c \\in \\mathcal{V}} \\left( \\#(w,c) \\log \\sigma(\\mathbf{w}^\\top\\mathbf{c}) \\right) + \\sum_{w \\in \\mathcal{V}} \\left( \\#(w) \\cdot k \\cdot \\mathbb{E}_{c'\\sim P_\\mathcal{D}} \\log \\sigma (-\\mathbf{w}^\\top\\mathbf{c}) \\right)$\n",
    "\n",
    "$\\mathbb{E}_{c'\\sim P_\\mathcal{D}} \\log \\sigma (-\\mathbf{w}^\\top\\mathbf{c'}) = \\sum_{c' \\in \\mathcal{V}} \\left( \\frac{\\#(c')}{|\\mathcal{D}|} \\log \\sigma (-\\mathbf{w}^\\top\\mathbf{c'} \\right) = \\frac{\\#(c)}{|\\mathcal{D}|} \\log \\sigma (-\\mathbf{w}^\\top\\mathbf{c}) + \\sum_{c' \\in \\mathcal{V} \\setminus \\{c\\}} \\left( \\frac{\\#(c')}{|\\mathcal{D}|} \\log \\sigma (-\\mathbf{w}^\\top\\mathbf{c'} \\right)$\n",
    "\n",
    "For specific $(\\mathcal w, \\mathcal c)$ pair:\n",
    "$\\mathcal{l}(\\mathcal w, \\mathcal c) =  \\#(w,c) \\log \\sigma(\\mathbf{w}^\\top\\mathbf{c}) +   k \\cdot \\frac{\\#(w)\\#(c)}{|\\mathcal{D}|} \\log \\sigma (-\\mathbf{w}^\\top\\mathbf{c})$\n",
    "\n",
    "$x=\\mathbf{w}^\\top\\mathbf{c}$\n",
    "\n",
    "\n",
    "$\\frac{\\partial \\mathcal{l}}{\\partial x} = \\#(w,c) \\sigma(-x) - k \\cdot \\frac{\\#(w)\\#(c)}{|\\mathcal{D}|} \\sigma (x) = 0$\n",
    "\n",
    "For solving this equation let $\\alpha = \\#(w,c)$, $\\beta = k \\cdot \\frac{\\#(w)\\#(c)}{|\\mathcal{D}|}$\n",
    "\n",
    "$\\alpha (1 + e^{-x}) - \\beta (1 + e^{x}) = \\alpha (e^{x} + 1) - \\beta (e^{2x} + e^{x}) = 0$\n",
    "\n",
    "Let $y = e^{x}$:\n",
    "\n",
    "$\\alpha (y + 1) - \\beta (y^2 + y) = 0$\n",
    "\n",
    "$y^2 - \\left( \\frac{\\alpha}{\\beta} - 1 \\right) - \\frac{\\alpha}{\\beta}= 0$\n",
    "\n",
    "This equation has two roots: $y = -1$, which is invalid due to definition of $y$ and $y = \\frac{\\alpha}{\\beta} = \\frac{\\#(w,c)}{k \\cdot \\frac{\\#(w)\\#(c)}{|\\mathcal{D}|}}$, therefore\n",
    "\n",
    "$M_{wc}x=\\mathbf{w}^\\top\\mathbf{c}=\\log \\left( \\frac{\\#(w,c) \\cdot |\\mathcal{D}|}{k \\cdot \\#(w)\\#(c)} \\right)$"
   ]
  },
  {
   "cell_type": "markdown",
   "metadata": {},
   "source": [
    "### Task 2 (practical) 36 pts"
   ]
  },
  {
   "cell_type": "code",
   "execution_count": 68,
   "metadata": {},
   "outputs": [],
   "source": [
    "import os\n",
    "import numpy as np\n",
    "import scipy as sc\n",
    "from sklearn.metrics.pairwise import cosine_similarity\n",
    "from scipy.sparse.linalg import svds"
   ]
  },
  {
   "cell_type": "markdown",
   "metadata": {},
   "source": [
    "1. Download dataset [enwik8](http://mattmahoney.net/dc/enwik8.zip) of compressed Wikipedia articles and preprocess raw data with Perl script **main_.pl**. This script will clean all unnecessary symbols, make all words to lowercase, and produce only sentences with words. If you are Windows user, you can install [linux subsystem in windows](https://www.microsoft.com/en-us/p/ubuntu-1804-lts/9n9tngvndl3q?activetab=pivot:overviewtab) and run all these bash commands from ubuntu console (it was checked on the Windows and it works). Also, you can just download file from this [link](https://nla.skoltech.ru/homeworks/files/enwik8.txt).\n",
    "```\n",
    "wget http://mattmahoney.net/dc/enwik8.zip\n",
    "unzip enwik8.zip\n",
    "mkdir data\n",
    "perl main_.pl enwik8 > data/enwik8.txt\n",
    "```"
   ]
  },
  {
   "cell_type": "code",
   "execution_count": 2,
   "metadata": {},
   "outputs": [],
   "source": [
    "# Load enwik 8\n",
    "\n",
    "import re\n",
    "file = open(\"data/enwik8.txt\", \"r\")\n",
    "doclist = [line for line in file]\n",
    "docstr = ''.join(doclist)\n",
    "sentences = re.split(r'[.!?]', docstr)\n",
    "sentences = [sentence.split() for sentence in sentences if len(sentence) > 1]"
   ]
  },
  {
   "cell_type": "code",
   "execution_count": 3,
   "metadata": {
    "scrolled": true
   },
   "outputs": [
    {
     "name": "stdout",
     "output_type": "stream",
     "text": [
      "['achilles', 'wrath', 'is', 'terrible', 'and', 'he', 'slays', 'many', 'trojan', 'warriors', 'and', 'allies', 'including', 'priam', 's', 'son', 'lycaon', 'whom', 'achilles', 'had', 'previously', 'captured', 'and', 'sold', 'into', 'slavery', 'but', 'who', 'had', 'been', 'returned', 'to', 'troy']\n"
     ]
    }
   ],
   "source": [
    "print (sentences[1249])"
   ]
  },
  {
   "cell_type": "markdown",
   "metadata": {},
   "source": [
    "2. Construct the word vocabulary from the obtained sentences which enumerates words which occur more than $r=200$ times in the corpus."
   ]
  },
  {
   "cell_type": "code",
   "execution_count": 4,
   "metadata": {},
   "outputs": [],
   "source": [
    "from collections import Counter\n",
    "from itertools import chain\n",
    "\n",
    "def create_vocabulary(sentences, r=200):\n",
    "    vocabulary = {}\n",
    "    # Your code is here\n",
    "    freq = Counter(chain.from_iterable(sentences))\n",
    "    voc_idx =  [k for k, v in freq.items() if v > 200]\n",
    "    vocabulary = {k:v for k, v in zip(voc_idx, list(range(len(voc_idx))))}\n",
    "    return vocabulary"
   ]
  },
  {
   "cell_type": "code",
   "execution_count": 5,
   "metadata": {},
   "outputs": [],
   "source": [
    "vocab = create_vocabulary(sentences)"
   ]
  },
  {
   "cell_type": "markdown",
   "metadata": {},
   "source": [
    "3. Scan the text corpus with sliding window of size $5$ and step $1$ (which corresponds to $L$=2) and construct co-occurrence word-context matrix $D$ with elements $D_{wc}=\\#(w,c)$. Please, ignore words which occur less than $r=200$ times, but include them into the sliding window. Please, see the graphical illustration of the procedure described."
   ]
  },
  {
   "cell_type": "markdown",
   "metadata": {},
   "source": [
    "![Sliding window](sliding_window.png)"
   ]
  },
  {
   "cell_type": "code",
   "execution_count": 170,
   "metadata": {},
   "outputs": [],
   "source": [
    "from tqdm import tqdm_notebook\n",
    "\n",
    "\n",
    "def create_corpus_matrix(sentences, vocabulary):\n",
    "    # Your code is here\n",
    "    corpus_matrix = np.zeros((len(vocabulary), len(vocabulary)), dtype=int)\n",
    "    for sent in tqdm_notebook(sentences):\n",
    "        #for each word consider its position\n",
    "        for i in range(len(sent)):\n",
    "            if sent[i] not in vocabulary:\n",
    "                continue\n",
    "            voc_idx = vocabulary[sent[i]]\n",
    "            #select the window\n",
    "            idx_low, idx_high = max(0, i - 2), min(len(sent), i + 3)\n",
    "            context = sent[idx_low:i] + sent[i+1:idx_high]\n",
    "            for w in context:\n",
    "                if w in vocabulary:\n",
    "                    corpus_matrix[voc_idx, vocabulary[w]] += 1\n",
    "    \n",
    "    return corpus_matrix"
   ]
  },
  {
   "cell_type": "code",
   "execution_count": 171,
   "metadata": {
    "scrolled": true
   },
   "outputs": [
    {
     "data": {
      "application/vnd.jupyter.widget-view+json": {
       "model_id": "33e3158afc6a439f835a95afe255d449",
       "version_major": 2,
       "version_minor": 0
      },
      "text/plain": [
       "HBox(children=(IntProgress(value=0, max=889156), HTML(value='')))"
      ]
     },
     "metadata": {},
     "output_type": "display_data"
    },
    {
     "name": "stdout",
     "output_type": "stream",
     "text": [
      "\n"
     ]
    }
   ],
   "source": [
    "D = create_corpus_matrix(sentences, vocab)"
   ]
  },
  {
   "cell_type": "markdown",
   "metadata": {},
   "source": [
    "4. To find good word embeddings, [Levy and Goldberg, 2015](http://papers.nips.cc/paper/5477-neural-word-embedding-as-implicit-matrix-factorization.pdf) proposed to find rank-$d$ SVD of Shifted Positive Pointwise Mutual Information (SPPMI) matrix\n",
    "\n",
    "$$ U \\Sigma V^\\top \\approx \\text{SPPMI}, $$\n",
    "\n",
    "where $\\text{SPPMI}(w, c) = \\max\\left(\\text{SPMI}(w, c), 0 \\right)$ and $\\text{SPMI}(w, c)$ is the element of the matrix $\\text{SPPMI}$ at position $(w, c)$.\n",
    "Then use $W=U\\sqrt{\\Sigma}$ as word embedding matrix. Your task is to reproduce their results. Write function constructs $\\text{SPPMI}$ matrix, computes its SVD and produces word-vectors matrix $W$. Pay attention that $\\text{SPPMI}$ matrix is **sparse**!  "
   ]
  },
  {
   "cell_type": "markdown",
   "metadata": {},
   "source": [
    "**Note:** This matrix is called Shifted Pointwise Mutual Information (SPMI) matrix, as its elements can be written as\n",
    "\n",
    "$$\n",
    "\\text{SPMI}(w,c) = M_{wc} = \\mathbf{w}^\\top\\mathbf{c} = \\text{PMI}(w,c) - \\log k\n",
    "$$\n",
    "\n",
    "and $\\text{PMI}(w,c) = \\log \\left( \\frac{\\#(w,c) \\cdot |\\mathcal{D}|}{\\#(w)\\cdot\\#(c)} \\right)$ is the well-known [pointwise mutual information](https://en.wikipedia.org/wiki/Pointwise_mutual_information) of $(w,c)$."
   ]
  },
  {
   "cell_type": "code",
   "execution_count": 174,
   "metadata": {},
   "outputs": [],
   "source": [
    "def compute_embeddings(D, k, d=200):\n",
    "    # Your code is here\n",
    "    len_D = D.sum()\n",
    "    w_sum = D.sum(axis=1)\n",
    "    c_sum = D.sum(axis=0)\n",
    "    D_ = sc.sparse.coo_matrix(D / np.outer(w_sum, c_sum))\n",
    "    D_.data = np.maximum(np.log(D_.data * len_D) - np.log(k), 0)\n",
    "    u, s, vh = svds(D_, k=d)\n",
    "    embedding_matrix = u @ np.diag(np.sqrt(s))\n",
    "    return embedding_matrix"
   ]
  },
  {
   "cell_type": "code",
   "execution_count": 175,
   "metadata": {},
   "outputs": [],
   "source": [
    "k = 5 # negative sampling parameter\n",
    "W = compute_embeddings(D, k)"
   ]
  },
  {
   "cell_type": "code",
   "execution_count": 176,
   "metadata": {},
   "outputs": [
    {
     "data": {
      "text/plain": [
       "-0.0011447332123854805"
      ]
     },
     "execution_count": 176,
     "metadata": {},
     "output_type": "execute_result"
    }
   ],
   "source": [
    "W.mean()"
   ]
  },
  {
   "cell_type": "markdown",
   "metadata": {},
   "source": [
    "5. Write class **WordVectors** using provided template."
   ]
  },
  {
   "cell_type": "code",
   "execution_count": 177,
   "metadata": {},
   "outputs": [],
   "source": [
    "class WordVectors:\n",
    "    \n",
    "    def __init__(self, vocabulary, embedding_matrix):\n",
    "        self.vocab = vocabulary\n",
    "        self.W = embedding_matrix\n",
    "        self.inv_vocab = {v: k for k, v in self.vocab.items()}\n",
    "        \n",
    "    def word_vector(self, word):\n",
    "        \"\"\" \n",
    "        Takes word and returns its word vector.\n",
    "        \"\"\"\n",
    "        word_vector = self.W[self.vocab[word]]\n",
    "        return word_vector.reshape(1, -1)\n",
    "    \n",
    "    def nearest_words(self, word, top_n=10):\n",
    "        \"\"\" \n",
    "        Takes word from the vocabulary and returns its top_n\n",
    "        nearest neighbors in terms of cosine similarity.\n",
    "        \"\"\"\n",
    "        cs = cosine_similarity(self.W, self.word_vector(word)).ravel()\n",
    "        idxs = np.argsort(-cs)[1:top_n+1]\n",
    "        neighbors = [self.inv_vocab[i] for i in idxs]\n",
    "        return list(zip(neighbors, cs[idxs]))"
   ]
  },
  {
   "cell_type": "code",
   "execution_count": 178,
   "metadata": {},
   "outputs": [],
   "source": [
    "model = WordVectors(vocab, W)"
   ]
  },
  {
   "cell_type": "code",
   "execution_count": 179,
   "metadata": {},
   "outputs": [
    {
     "data": {
      "text/plain": [
       "0.003516800848841038"
      ]
     },
     "execution_count": 179,
     "metadata": {},
     "output_type": "execute_result"
    }
   ],
   "source": [
    "np.set_printoptions(precision=3, suppress=True)\n",
    "model.word_vector(\"anarchism\").mean()"
   ]
  },
  {
   "cell_type": "code",
   "execution_count": 180,
   "metadata": {},
   "outputs": [
    {
     "data": {
      "text/plain": [
       "[('communism', 0.784858912115387),\n",
       " ('anarcho', 0.7832424734610783),\n",
       " ('capitalism', 0.7808426453313517),\n",
       " ('socialism', 0.7438494779661095),\n",
       " ('liberalism', 0.709889055359445),\n",
       " ('criticisms', 0.707991060554691),\n",
       " ('capitalist', 0.6698667056521759),\n",
       " ('fascism', 0.5474056803961745),\n",
       " ('anarchist', 0.5184369607228628),\n",
       " ('nationalism', 0.5119025188418221)]"
      ]
     },
     "execution_count": 180,
     "metadata": {},
     "output_type": "execute_result"
    }
   ],
   "source": [
    "model.nearest_words(\"anarchism\")"
   ]
  },
  {
   "cell_type": "code",
   "execution_count": 181,
   "metadata": {},
   "outputs": [
    {
     "data": {
      "text/plain": [
       "[('ukraine', 0.6540922172595167),\n",
       " ('russia', 0.6148685286643397),\n",
       " ('belarus', 0.5468665605987418),\n",
       " ('poland', 0.5437339705491115),\n",
       " ('yugoslavia', 0.5244773507315696),\n",
       " ('romania', 0.506212036829431),\n",
       " ('austria', 0.4959364955072505),\n",
       " ('serbia', 0.49190831514590705),\n",
       " ('hungary', 0.45977972235056186),\n",
       " ('finland', 0.4158690344114213)]"
      ]
     },
     "execution_count": 181,
     "metadata": {},
     "output_type": "execute_result"
    }
   ],
   "source": [
    "model.nearest_words(\"ussr\")"
   ]
  },
  {
   "cell_type": "code",
   "execution_count": 182,
   "metadata": {},
   "outputs": [
    {
     "data": {
      "text/plain": [
       "[('hop', 0.8253395849004936),\n",
       " ('hip', 0.8105137935853044),\n",
       " ('funk', 0.7448464342399277),\n",
       " ('rock', 0.7314108756121566),\n",
       " ('punk', 0.7103397120873217),\n",
       " ('music', 0.6878431146198496),\n",
       " ('band', 0.6601902935396644),\n",
       " ('pop', 0.6593059204986256),\n",
       " ('scene', 0.6569535675366466),\n",
       " ('jazz', 0.6260219107813176)]"
      ]
     },
     "execution_count": 182,
     "metadata": {},
     "output_type": "execute_result"
    }
   ],
   "source": [
    "model.nearest_words(\"rap\")"
   ]
  },
  {
   "cell_type": "markdown",
   "metadata": {},
   "source": [
    "6. Calculate top 10 nearest neighbours with the corresponding cosine similarities for the words {matrix, multiplication, algorithm} and print them below"
   ]
  },
  {
   "cell_type": "code",
   "execution_count": 185,
   "metadata": {},
   "outputs": [
    {
     "data": {
      "text/plain": [
       "[('multiplication', 0.6101005996153752),\n",
       " ('graph', 0.5107974644061162),\n",
       " ('polynomial', 0.5020747128564645),\n",
       " ('theorem', 0.44926965943704533),\n",
       " ('linear', 0.4438236686583983),\n",
       " ('algebraic', 0.4222137708545799),\n",
       " ('inverse', 0.4200291007518234),\n",
       " ('functions', 0.40834179249307007),\n",
       " ('transformation', 0.40813506303058256),\n",
       " ('algebra', 0.4036455521966506)]"
      ]
     },
     "execution_count": 185,
     "metadata": {},
     "output_type": "execute_result"
    }
   ],
   "source": [
    "model.nearest_words(\"matrix\")"
   ]
  },
  {
   "cell_type": "code",
   "execution_count": 186,
   "metadata": {},
   "outputs": [
    {
     "data": {
      "text/plain": [
       "[('polynomial', 0.7344867074809285),\n",
       " ('linear', 0.6691212535438261),\n",
       " ('inverse', 0.631085878254801),\n",
       " ('functions', 0.6216316569765176),\n",
       " ('matrix', 0.6101005996153752),\n",
       " ('equations', 0.6045904537038952),\n",
       " ('algebra', 0.5760747588430754),\n",
       " ('algebraic', 0.5622816109649028),\n",
       " ('equation', 0.5533744129124692),\n",
       " ('graph', 0.5508258862680235)]"
      ]
     },
     "execution_count": 186,
     "metadata": {},
     "output_type": "execute_result"
    }
   ],
   "source": [
    "model.nearest_words(\"multiplication\")"
   ]
  },
  {
   "cell_type": "code",
   "execution_count": 187,
   "metadata": {},
   "outputs": [
    {
     "data": {
      "text/plain": [
       "[('algorithms', 0.7885783828186849),\n",
       " ('polynomial', 0.6370728118856318),\n",
       " ('functions', 0.5656224721008258),\n",
       " ('encryption', 0.5245051654958264),\n",
       " ('sort', 0.5075025705821674),\n",
       " ('hash', 0.5030932033386607),\n",
       " ('problem', 0.49909825258915264),\n",
       " ('multiplication', 0.49007618516086165),\n",
       " ('scheme', 0.4829757139813127),\n",
       " ('coding', 0.47694778451008923)]"
      ]
     },
     "execution_count": 187,
     "metadata": {},
     "output_type": "execute_result"
    }
   ],
   "source": [
    "model.nearest_words(\"algorithm\")"
   ]
  },
  {
   "cell_type": "markdown",
   "metadata": {},
   "source": [
    "# Problem 4 (eigenvalues)  45 pts\n",
    "\n",
    "### 1. Theoretical tasks (10 pts)\n",
    "\n",
    "* (5 pts) Prove that normal matrix is Hermitian iff its eigenvalues are real. Prove that normal matrix is unitary iff its eigenvalues satisfy $|\\lambda| = 1$. \n",
    "\n",
    "* (5 pts) The following problem illustrates instability of the Jordan form. Find theoretically the eigenvalues of the perturbed Jordan block:\n",
    "\n",
    "$$\n",
    "    J(\\varepsilon) = \n",
    "    \\begin{bmatrix} \n",
    "     \\lambda & 1 & & & 0 \\\\ \n",
    "     & \\lambda & 1 & & \\\\ \n",
    "     &  & \\ddots & \\ddots & \\\\ \n",
    "     & & & \\lambda & 1 \\\\ \n",
    "     \\varepsilon & & & & \\lambda  \\\\ \n",
    "    \\end{bmatrix}_{n\\times n}\n",
    "$$\n",
    "\n",
    "Comment how eigenvalues of $J(0)$ are perturbed for large $n$."
   ]
  },
  {
   "cell_type": "markdown",
   "metadata": {},
   "source": [
    "**1.1.1** Prove that normal matrix is Hermitian iff its eigenvalues are real.\n",
    "Let $A$ be hermitian matrix, $Ax = \\lambda x$, $(Ax, x) = x^*Ax = \\lambda (x, x) \\rightarrow \\lambda is real since scalar product is real$\n",
    "\n",
    "From the other hand let $A$ be normal matrix with real eigenvalues $\\lambda_1 \\ldots \\lambda_n$\n",
    "\n",
    "Let's consider Schur decomposition of $A$: $A = UTU^* \\, , A^* = UT^*U^*$\n",
    "\n",
    "$AA* = UTU^* UT^*U^* = UTT^*U^*$\n",
    "\n",
    "$A*A = UT^*U^* UTU^* = UT^*TU^*$\n",
    "\n",
    "Since $A$ is normal - $AA* = A*A \\rightarrow TT^* = T^*T$, and as $T$ is upper triangular $T$ is diagonal.\n",
    "\n",
    "Therefore $A = UTU^* = UT^*U^* = A^* \\rightarrow A$ is hermitian\n",
    "\n",
    "**1.1.2** Prove that normal matrix is unitary iff its eigenvalues satisfy  |𝜆|=1\n",
    "\n",
    "As shown in **1.1.1** for normal matrix $A$ Schur decomposition looks like $A = UTU^*$, where $T$ is diagonal\n",
    "\n",
    "$A*A = UT^*U^* UTU^* = UT^*TU^* = I$ iff $T^*T = I$\n",
    "\n",
    "$T^*T = diag(\\lambda_i^*\\lambda_i) = I$ iff $\\lambda_i^*\\lambda_i = |\\lambda_i| = 1 \\,\\, \\forall i$ \n",
    "\n",
    "**1.2** (5 pts) The following problem illustrates instability of the Jordan form. Find theoretically the eigenvalues of the perturbed Jordan block\n",
    "\n",
    "Let's consider characteristic polynom of perturbed Jordan form:\n",
    "\n",
    "$det(J(\\varepsilon) - \\alpha I) = \\varepsilon \\pm (\\lambda - \\alpha)^{n} = 0$\n",
    "\n",
    "In case of odd $n$:\n",
    "\n",
    "$det(J(\\varepsilon) - \\alpha I) = \\varepsilon + (\\lambda - \\alpha)^{n} = 0 \\rightarrow (\\lambda - \\alpha)^{n} = - \\varepsilon \\rightarrow \\alpha_j = \\lambda - \\varepsilon ^{1/n} = \\lambda - \\sqrt[n]{\\varepsilon} e^{\\frac{i\\pi + 2i \\pi  j}{n}}$\n",
    "\n",
    "In case of even $n$:\n",
    "\n",
    "$det(J(\\varepsilon) - \\alpha I) = \\varepsilon - (\\lambda - \\alpha)^{n} = 0 \\rightarrow (\\lambda - \\alpha)^{n} = \\varepsilon \\rightarrow \\alpha_j = \\lambda - \\varepsilon ^{1/n} = \\lambda - \\sqrt[n]{\\varepsilon} e^{\\frac{2\\pi i j}{n}}$\n",
    "\n",
    "So for large $n$ eigenvalues of $J(0)$ are perturbed by the factor of $\\sqrt[n]{\\varepsilon}$, which is rather small."
   ]
  },
  {
   "cell_type": "markdown",
   "metadata": {},
   "source": [
    "### 2. PageRank\n",
    "\n",
    "\n",
    "#### Damping factor importance\n",
    "\n",
    "* (5 pts) Write the function ```pagerank_matrix(G)``` that takes an adjacency matrix $G$ (in both sparse and dense formats) as an input and outputs the corresponding PageRank matrix $A$."
   ]
  },
  {
   "cell_type": "code",
   "execution_count": 2,
   "metadata": {},
   "outputs": [],
   "source": [
    "# INPUT:  G - np.ndarray or sparse matrix\n",
    "# OUTPUT: A - np.ndarray (of size G.shape) or sparse matrix\n",
    "def pagerank_matrix(G):\n",
    "    vec = 1 / G.sum(axis=0)\n",
    "    if sc.sparse.issparse(G):\n",
    "        A = G.multiply(vec)\n",
    "    else:\n",
    "        A = G * vec\n",
    "    return A"
   ]
  },
  {
   "cell_type": "markdown",
   "metadata": {},
   "source": [
    "* (3 pts) Find PageRank matrix $A$ that corresponds to the following graph: <img src=\"graph.png\" width='250'>\n",
    "What is its largest eigenvalue? What multiplicity does it have?\n",
    "\n",
    "\n",
    "* (5 pts) Implement the power method for a given matrix $A$, an initial guess $x_0$ and a number of iterations ```num_iter```. It should be organized as a function ```power_method(A, x0, num_iter)``` that outputs approximation to eigenvector $x$, eigenvalue $\\lambda$ and history of residuals $\\{\\|Ax_k - \\lambda_k x_k\\|_2\\}$. Make sure that the method converges to the correct solution on a matrix $\\begin{bmatrix} 2 & -1 \\\\ -1 & 2 \\end{bmatrix}$ which is known to have the largest eigenvalue equal to $3$."
   ]
  },
  {
   "cell_type": "code",
   "execution_count": 3,
   "metadata": {},
   "outputs": [
    {
     "name": "stdout",
     "output_type": "stream",
     "text": [
      "[[0.  0.  0.5 0.  0. ]\n",
      " [1.  0.  0.5 0.  0. ]\n",
      " [0.  1.  0.  0.  0. ]\n",
      " [0.  0.  0.  0.  1. ]\n",
      " [0.  0.  0.  1.  0. ]]\n",
      "\n",
      "[-0.5+0.5j -0.5-0.5j  1. +0.j   1. +0.j  -1. +0.j ]\n",
      "\n",
      "Largest eigenvalue is 1 with multiplicity of 2\n",
      "\n"
     ]
    }
   ],
   "source": [
    "G = np.array([[0,0,1,0,0],[1,0,1,0,0],[0,1,0,0,0],[0,0,0,0,1],[0,0,0,1,0]])\n",
    "A = pagerank_matrix(G)\n",
    "print(A, end='\\n\\n')\n",
    "\n",
    "print(np.linalg.eigvals(A), end='\\n\\n')\n",
    "\n",
    "print(\"Largest eigenvalue is 1 with multiplicity of 2\", end='\\n\\n')"
   ]
  },
  {
   "cell_type": "code",
   "execution_count": 14,
   "metadata": {},
   "outputs": [],
   "source": [
    "from tqdm import tqdm_notebook\n",
    "# INPUT:  A - np.ndarray (2D), x0 - np.ndarray (1D), num_iter - integer (positive) \n",
    "# OUTPUT: x - np.ndarray (of size x0), l - float, res - np.ndarray (of size num_iter + 1 [include initial guess])\n",
    "def power_method(A, x0, num_iter): # 5 pts\n",
    "    residuals = []\n",
    "    x = x0 / np.linalg.norm(x0)\n",
    "    l = (A @ x).dot(x)\n",
    "    residuals.append(np.linalg.norm(A @ x - l * x))\n",
    "    for i in tqdm_notebook(range(num_iter)):\n",
    "        x = A @ x\n",
    "        x /= np.linalg.norm(x)\n",
    "        l = (A @ x).dot(x)\n",
    "        residuals.append(np.linalg.norm(A @ x - l * x))\n",
    "        if residuals[-1] == 0:\n",
    "            print('Converged')\n",
    "            break\n",
    "    return x, l, np.array(residuals)"
   ]
  },
  {
   "cell_type": "markdown",
   "metadata": {},
   "source": [
    "* (2 pts) Run the power method for the graph presented above and plot residuals $\\|Ax_k - \\lambda_k x_k\\|_2$ as a function of $k$ for ```num_iter=100``` and random initial guess ```x0```.  Explain the absence of convergence. \n",
    "\n",
    "\n",
    "* (2 pts) Consider the same graph, but with additional self loop at node 4 (self loop is an edge that connects a vertex with itself). Plot residuals as in the previous task and discuss the convergence. Now, run the power method with num_iter=100 for 10 different initial guesses and print/plot the resulting approximated eigenvectors. Why do they depend on the initial guess?\n",
    "\n",
    "\n",
    "In order to avoid this problem Larry Page and Sergey Brin [proposed](http://ilpubs.stanford.edu:8090/422/1/1999-66.pdf) to use the following regularization technique:\n",
    "\n",
    "$$\n",
    "A_d = dA + \\frac{1-d}{N} \\begin{pmatrix} 1 & \\dots & 1 \\\\ \\vdots & & \\vdots \\\\ 1 & \\dots & 1 \\end{pmatrix},\n",
    "$$\n",
    "\n",
    "where $d$ is a small parameter in $[0,1]$ (typically $d=0.85$), which is called **damping factor**, $A$ is of size $N\\times N$. Now $A_d$ is the matrix with multiplicity of the largest eigenvalue equal to 1. \n",
    "Recall that computing the eigenvector of the PageRank matrix, which corresponds to the largest eigenvalue, has the following interpretation. Consider a person who stays in a random node of a graph (i.e. opens a random web page); at each step s/he follows one of the outcoming edges uniformly at random (i.e. opens one of the links). So the person randomly walks through the graph and the eigenvector we are looking for is exactly his/her stationary distribution â€” for each node it tells you the probability of visiting this particular node. Therefore, if the person has started from a part of the graph which is not connected with the other part, he will never get there.  In the regularized model, the person at each step follows one of the outcoming links with probability $d$ OR teleports to a random node from the whole graph with probability $(1-d)$.\n",
    "\n",
    "* (2 pts) Now, run the power method with $A_d$ and plot residuals $\\|A_d x_k - \\lambda_k x_k\\|_2$ as a function of $k$ for $d=0.97$, ```num_iter=100``` and a random initial guess ```x0```.\n",
    "\n",
    "* (5 pts) Find the second largest in the absolute value eigenvalue of the obtained matrix $A_d$. How and why is it connected to the damping factor $d$? What is the convergence rate of the PageRank algorithm when using damping factor?\n",
    "\n",
    "Usually, graphs that arise in various areas are sparse (social, web, road networks, etc.) and, thus, computation of a matrix-vector product for corresponding PageRank matrix $A$ is much cheaper than $\\mathcal{O}(N^2)$. However, if $A_d$ is calculated directly, it becomes dense and, therefore, $\\mathcal{O}(N^2)$ cost grows prohibitively large for  big $N$.\n",
    "\n",
    "\n",
    "* (2 pts) Implement fast matrix-vector product for $A_d$ as a function ```pagerank_matvec(A, d, x)```, which takes a PageRank matrix $A$ (in sparse format, e.g., ```csr_matrix```), damping factor $d$ and a vector $x$ as an input and returns $A_dx$ as an output. \n",
    "\n",
    "* (1 pts) Generate a random adjacency matrix of size $10000 \\times 10000$ with only 100 non-zero elements and compare ```pagerank_matvec``` performance with direct evaluation of $A_dx$."
   ]
  },
  {
   "cell_type": "code",
   "execution_count": 94,
   "metadata": {},
   "outputs": [
    {
     "name": "stdout",
     "output_type": "stream",
     "text": [
      "0.9036955741362255\n"
     ]
    },
    {
     "data": {
      "image/png": "[encoded data removed]",
      "text/plain": [
       "<Figure size 720x504 with 1 Axes>"
      ]
     },
     "metadata": {
      "needs_background": "light"
     },
     "output_type": "display_data"
    }
   ],
   "source": [
    "import matplotlib.pyplot as plt\n",
    "\n",
    "x, l, residuals = power_method(A, np.random.rand(A.shape[0]), num_iter=100)\n",
    "\n",
    "print(l)\n",
    "\n",
    "plt.figure(figsize=(10, 7))\n",
    "plt.plot(residuals)\n",
    "# plt.yscale(\"log\")\n",
    "plt.xlabel('iteration#', fontsize=14)\n",
    "plt.title('Residuals during computation', fontsize=18)\n",
    "plt.show()"
   ]
  },
  {
   "cell_type": "markdown",
   "metadata": {},
   "source": [
    "Given matrix has two eigenvalues with the largest module: 1 and -1, therefore convergence rate $q = \\left| \\frac{-1}{1} \\right| = 1$. Convergence of Power method is geometric $q^k$, $q=1$, therefore algorithm does not converge"
   ]
  },
  {
   "cell_type": "markdown",
   "metadata": {},
   "source": [
    "**(2 pts)** Consider the same graph, but with additional self loop at node 4 (self loop is an edge that connects a vertex with itself). Plot residuals as in the previous task and discuss the convergence. Now, run the power method with num_iter=100 for 10 different initial guesses and print/plot the resulting approximated eigenvectors. Why do they depend on the initial guess?"
   ]
  },
  {
   "cell_type": "code",
   "execution_count": 95,
   "metadata": {},
   "outputs": [
    {
     "data": {
      "image/png": "[encoded data removed]",
      "text/plain": [
       "<Figure size 720x504 with 1 Axes>"
      ]
     },
     "metadata": {
      "needs_background": "light"
     },
     "output_type": "display_data"
    }
   ],
   "source": [
    "G_с = np.array([[0,0,1,0,0],[1,0,1,0,0],[0,1,0,0,0],[0,0,0,0,1],[0,0,0,1,1]])\n",
    "A_с = pagerank_matrix(G_с)\n",
    "# print(A, end='\\n\\n')\n",
    "\n",
    "eigs = []\n",
    "\n",
    "for i in range(10):\n",
    "    x, l, r = power_method(A_с, np.random.rand(A.shape[0]), num_iter=100)\n",
    "    eigs.append(x)\n",
    "\n",
    "plt.figure(figsize=(10, 7))\n",
    "for x in eigs:\n",
    "    plt.plot(x, linestyle='--', marker='o', markersize=10)\n",
    "plt.xlabel(\"Eigenvector's coordinate\", fontsize=14)\n",
    "plt.title('Eigenvectors depending on initialization', fontsize=18)\n",
    "plt.grid()\n",
    "plt.show()\n",
    "# eigs"
   ]
  },
  {
   "cell_type": "code",
   "execution_count": 96,
   "metadata": {},
   "outputs": [
    {
     "data": {
      "text/plain": [
       "(array([-0.5+0.5j, -0.5-0.5j,  1. +0.j , -0.5+0.j ,  1. +0.j ]),\n",
       " array([[ 0.35355339+0.35355339j,  0.35355339-0.35355339j,\n",
       "          0.33333333+0.j        ,  0.        +0.j        ,\n",
       "          0.        +0.j        ],\n",
       "        [ 0.35355339-0.35355339j,  0.35355339+0.35355339j,\n",
       "          0.66666667+0.j        ,  0.        +0.j        ,\n",
       "          0.        +0.j        ],\n",
       "        [-0.70710678+0.j        , -0.70710678-0.j        ,\n",
       "          0.66666667+0.j        ,  0.        +0.j        ,\n",
       "          0.        +0.j        ],\n",
       "        [ 0.        +0.j        ,  0.        -0.j        ,\n",
       "          0.        +0.j        , -0.70710678+0.j        ,\n",
       "         -0.4472136 +0.j        ],\n",
       "        [ 0.        +0.j        ,  0.        -0.j        ,\n",
       "          0.        +0.j        ,  0.70710678+0.j        ,\n",
       "         -0.89442719+0.j        ]]))"
      ]
     },
     "execution_count": 96,
     "metadata": {},
     "output_type": "execute_result"
    }
   ],
   "source": [
    "np.linalg.eig(A_с)"
   ]
  },
  {
   "cell_type": "markdown",
   "metadata": {},
   "source": [
    "Multiplicity of the largest eigenvalue is 2, thus dimentionality of its subspace is also 2, power method returns some eigenvector from that eigenspace."
   ]
  },
  {
   "cell_type": "markdown",
   "metadata": {},
   "source": [
    "* **(2 pts)** Now, run the power method with $A_d$ and plot residuals $\\|A_d x_k - \\lambda_k x_k\\|_2$ as a function of $k$ for $d=0.97$, ```num_iter=100``` and a random initial guess ```x0```.\n",
    "\n",
    "* **(5 pts)** Find the second largest in the absolute value eigenvalue of the obtained matrix $A_d$. How and why is it connected to the damping factor $d$? What is the convergence rate of the PageRank algorithm when using damping factor?"
   ]
  },
  {
   "cell_type": "code",
   "execution_count": 98,
   "metadata": {},
   "outputs": [
    {
     "name": "stdout",
     "output_type": "stream",
     "text": [
      "Largest eigenvalues of matrix $A_d$ is 0.9999239135688017\n"
     ]
    },
    {
     "data": {
      "image/png": "[encoded data removed]",
      "text/plain": [
       "<Figure size 720x504 with 1 Axes>"
      ]
     },
     "metadata": {
      "needs_background": "light"
     },
     "output_type": "display_data"
    }
   ],
   "source": [
    "d = 0.97\n",
    "A_d = d * A + (1 - d) / A.shape[0] * np.ones(A.shape)\n",
    "\n",
    "x, l, residuals = power_method(A_d, np.random.rand(A.shape[0]), num_iter=100)\n",
    "\n",
    "print(r'Largest eigenvalues of matrix $A_d$ is', l)\n",
    "\n",
    "plt.figure(figsize=(10, 7))\n",
    "plt.plot(residuals)\n",
    "plt.xlabel('iteration #', fontsize=14)\n",
    "# plt.yscale('log')\n",
    "plt.title(r'Residuals during processing $A_d$ matrix', fontsize=18)\n",
    "plt.show()"
   ]
  },
  {
   "cell_type": "code",
   "execution_count": 100,
   "metadata": {},
   "outputs": [
    {
     "name": "stdout",
     "output_type": "stream",
     "text": [
      "0.9064701566250295\n"
     ]
    },
    {
     "data": {
      "image/png": "[encoded data removed]",
      "text/plain": [
       "<Figure size 720x504 with 1 Axes>"
      ]
     },
     "metadata": {
      "needs_background": "light"
     },
     "output_type": "display_data"
    }
   ],
   "source": [
    "B_d = A_d - l * np.outer(x, x)\n",
    "x2, l2, residuals2 = power_method(B_d, np.random.rand(A.shape[0]), num_iter=100)\n",
    "\n",
    "print(l2)\n",
    "\n",
    "plt.figure(figsize=(10, 7))\n",
    "plt.plot(residuals2)\n",
    "plt.xlabel('iteration #', fontsize=14)\n",
    "# plt.yscale('log')\n",
    "plt.title(r'Residuals during processing $B_d$ matrix', fontsize=18)\n",
    "plt.show()"
   ]
  },
  {
   "cell_type": "code",
   "execution_count": 667,
   "metadata": {},
   "outputs": [
    {
     "name": "stdout",
     "output_type": "stream",
     "text": [
      "[(1.0000000000000004+0j), (1+0j), (-0.5+0.5j), (-0.5-0.5j), (-1+0j)]\n",
      "[(1.0000000000000004+0j), (1+0j), (-0.5+0.5j), (-0.5+0j), (-0.5-0.5j)]\n",
      "[(0.9999999999999994+0j), (0.97+0j), (-0.4850000000000005+0.48500000000000026j), (-0.4850000000000005-0.48500000000000026j), (-0.97+0j)]\n"
     ]
    }
   ],
   "source": [
    "print(sorted((np.linalg.eigvals(A)), reverse=True))\n",
    "print(sorted(np.linalg.eigvals(A_с), reverse=True))\n",
    "print(sorted(np.linalg.eigvals(A_d), reverse=True))"
   ]
  },
  {
   "cell_type": "markdown",
   "metadata": {},
   "source": [
    "After applying damping strategy $\\lambda_2' = d \\lambda_2 $, where $d$ is damping factor. The convergence rate is $q = d \\lambda_2 $"
   ]
  },
  {
   "cell_type": "markdown",
   "metadata": {},
   "source": [
    "**Usually**, graphs that arise in various areas are sparse (social, web, road networks, etc.) and, thus, computation of a matrix-vector product for corresponding PageRank matrix $A$ is much cheaper than $\\mathcal{O}(N^2)$. However, if $A_d$ is calculated directly, it becomes dense and, therefore, $\\mathcal{O}(N^2)$ cost grows prohibitively large for  big $N$.\n",
    "\n",
    "\n",
    "* **(2 pts)** Implement fast matrix-vector product for $A_d$ as a function ```pagerank_matvec(A, d, x)```, which takes a PageRank matrix $A$ (in sparse format, e.g., ```csr_matrix```), damping factor $d$ and a vector $x$ as an input and returns $A_dx$ as an output. \n",
    "\n",
    "* **(1 pts)** Generate a random adjacency matrix of size $10000 \\times 10000$ with only 100 non-zero elements and compare ```pagerank_matvec``` performance with direct evaluation of $A_dx$."
   ]
  },
  {
   "cell_type": "code",
   "execution_count": 101,
   "metadata": {},
   "outputs": [
    {
     "name": "stderr",
     "output_type": "stream",
     "text": [
      "/home/litleo/.conda/envs/ds/lib/python3.6/site-packages/ipykernel_launcher.py:4: RuntimeWarning: divide by zero encountered in true_divide\n",
      "  after removing the cwd from sys.path.\n"
     ]
    }
   ],
   "source": [
    "G = sc.sparse.random(10000, 10000, 100 / 10000 / 10000, format='csr')\n",
    "A = pagerank_matrix(G)\n",
    "\n",
    "x = np.random.rand(10000)"
   ]
  },
  {
   "cell_type": "code",
   "execution_count": 19,
   "metadata": {},
   "outputs": [],
   "source": [
    "# INPUT:  A - np.ndarray (2D), d - float (from 0.0 to 1.0), x - np.ndarray (1D, size of A.shape[0/1])\n",
    "# OUTPUT: y - np.ndarray (1D, size of x)\n",
    "def pagerank_matvec(A, d, x): # 2 pts\n",
    "    res =  d * A.dot(x) + (1 - d) / A.shape[0] * x.sum()\n",
    "    return res"
   ]
  },
  {
   "cell_type": "code",
   "execution_count": 103,
   "metadata": {},
   "outputs": [
    {
     "name": "stdout",
     "output_type": "stream",
     "text": [
      "32.9 µs ± 2.97 µs per loop (mean ± std. dev. of 4 runs, 50 loops each)\n"
     ]
    }
   ],
   "source": [
    "%%timeit -r 4 -n 50\n",
    "pagerank_matvec(A, 0.97, x)"
   ]
  },
  {
   "cell_type": "code",
   "execution_count": 104,
   "metadata": {},
   "outputs": [
    {
     "name": "stdout",
     "output_type": "stream",
     "text": [
      "568 ms ± 21.6 ms per loop (mean ± std. dev. of 4 runs, 4 loops each)\n"
     ]
    }
   ],
   "source": [
    "%%timeit -r 4 -n 4\n",
    "np.dot(d * A + (1 - d) / A.shape[0] * np.ones(A.shape), x)"
   ]
  },
  {
   "cell_type": "markdown",
   "metadata": {},
   "source": [
    "#### DBLP: computer science bibliography\n",
    "\n",
    "Download the dataset from [here](https://goo.gl/oZVxEa), unzip it and put `dblp_authors.npz`  and `dblp_graph.npz` in the same folder with this notebook. Each value (author name) from `dblp_authors.npz` corresponds to the row/column of the matrix from `dblp_graph.npz`. Value at row `i` and column `j` of the matrix from `dblp_graph.npz` corresponds to the number of times author `i` cited papers of the author `j`. Let us now find the most significant scientists according to PageRank model over DBLP data.\n",
    "\n",
    "* (4 pts) Load the weighted adjacency matrix and the authors list into Python using ```load_dblp(...)``` function. Print its density (fraction of nonzero elements). Find top-10 most cited authors from the weighted adjacency matrix. Now, make all the weights of the adjacency matrix equal to 1 for simplicity (consider only existence of connection between authors, not its weight). Obtain the PageRank matrix $A$ from the adjacency matrix and verify that it is stochastic.\n",
    " \n",
    " \n",
    "* (1 pts) In order to provide ```pagerank_matvec``` to your ```power_method``` (without rewriting it) for fast calculation of $A_dx$, you can create a ```LinearOperator```: \n",
    "```python\n",
    "L = scipy.sparse.linalg.LinearOperator(A.shape, matvec=lambda x, A=A, d=d: pagerank_matvec(A, d, x))\n",
    "```\n",
    "Calling ```L@x``` or ```L.dot(x)``` will result in calculation of ```pagerank_matvec(A, d, x)``` and, thus, you can plug $L$ instead of the matrix $A$ in the ```power_method``` directly. **Note:** though in the previous subtask graph was very small (so you could disparage fast matvec implementation), here it is very large (but sparse), so that direct evaluation of $A_dx$ will require $\\sim 10^{12}$ matrix elements to store - good luck with that (^_<).\n",
    "\n",
    "\n",
    "* (2 pts) Run the power method starting from the vector of all ones and plot residuals $\\|A_dx_k - \\lambda_k x_k\\|_2$  as a function of $k$ for $d=0.85$.\n",
    "\n",
    "\n",
    "* (1 pts) Print names of the top-10 authors according to PageRank over DBLP when $d=0.85$. Comment on your findings."
   ]
  },
  {
   "cell_type": "markdown",
   "metadata": {},
   "source": [
    "* (4 pts) Load the weighted adjacency matrix and the authors list into Python using ```load_dblp(...)``` function. Print its density (fraction of nonzero elements). Find top-10 most cited authors from the weighted adjacency matrix. Now, make all the weights of the adjacency matrix equal to 1 for simplicity (consider only existence of connection between authors, not its weight). Obtain the PageRank matrix $A$ from the adjacency matrix and verify that it is stochastic."
   ]
  },
  {
   "cell_type": "code",
   "execution_count": 5,
   "metadata": {},
   "outputs": [],
   "source": [
    "from scipy.sparse import load_npz\n",
    "import numpy as np\n",
    "def load_dblp(path_auth, path_graph):\n",
    "    G = load_npz(path_graph).astype(float)\n",
    "    with np.load(path_auth) as data: authors = data['authors']\n",
    "    return G, authors\n",
    "G, authors = load_dblp('dblp_authors.npz', 'dblp_graph.npz')"
   ]
  },
  {
   "cell_type": "code",
   "execution_count": 6,
   "metadata": {},
   "outputs": [
    {
     "name": "stdout",
     "output_type": "stream",
     "text": [
      "density = 0.0000449865\n"
     ]
    }
   ],
   "source": [
    "print(f\"density = {(G.count_nonzero() / (G.shape[0] * G.shape[1])):.10f}\")"
   ]
  },
  {
   "cell_type": "code",
   "execution_count": 7,
   "metadata": {
    "scrolled": false
   },
   "outputs": [
    {
     "name": "stdout",
     "output_type": "stream",
     "text": [
      "Scott Shenker\n",
      "Andrew Zisserman\n",
      "Hari Balakrishnan\n",
      "Jiawei Han\n",
      "Anil K. Jain\n",
      "Cordelia Schmid\n",
      "Jitendra Malik\n",
      "Ion Stoica\n",
      "David E. Culler\n",
      "David G. Lowe\n"
     ]
    }
   ],
   "source": [
    "for a in authors[np.argsort(-np.array(G.sum(axis=0)).ravel())[:10]]:\n",
    "    print(a)"
   ]
  },
  {
   "cell_type": "code",
   "execution_count": 9,
   "metadata": {},
   "outputs": [],
   "source": [
    "G.data = np.sign(G.data)\n",
    "\n",
    "# Let's consider that every author cites himself, so we can make A stochastic\n",
    "G = (G + sc.sparse.diags([1], [0], shape=G.shape)).T\n",
    "A = pagerank_matrix(G)"
   ]
  },
  {
   "cell_type": "code",
   "execution_count": 13,
   "metadata": {},
   "outputs": [
    {
     "data": {
      "text/plain": [
       "True"
      ]
     },
     "execution_count": 13,
     "metadata": {},
     "output_type": "execute_result"
    }
   ],
   "source": [
    "A.sum(axis=0).all() == 1"
   ]
  },
  {
   "cell_type": "markdown",
   "metadata": {},
   "source": [
    "* (1 pts) In order to provide ```pagerank_matvec``` to your ```power_method``` (without rewriting it) for fast calculation of $A_dx$, you can create a ```LinearOperator```"
   ]
  },
  {
   "cell_type": "code",
   "execution_count": 26,
   "metadata": {},
   "outputs": [],
   "source": [
    "from scipy.sparse import linalg as sc_linalg\n",
    "d = 0.85\n",
    "L = sc.sparse.linalg.LinearOperator(A.shape, matvec=lambda x, A=A, d=d: pagerank_matvec(A, d, x))"
   ]
  },
  {
   "cell_type": "markdown",
   "metadata": {},
   "source": [
    "* (2 pts) Run the power method starting from the vector of all ones and plot residuals $\\|A_dx_k - \\lambda_k x_k\\|_2$  as a function of $k$ for $d=0.85$."
   ]
  },
  {
   "cell_type": "code",
   "execution_count": 27,
   "metadata": {},
   "outputs": [
    {
     "data": {
      "application/vnd.jupyter.widget-view+json": {
       "model_id": "22118f2caf7d48c5a4dae2cd88d68937",
       "version_major": 2,
       "version_minor": 0
      },
      "text/plain": [
       "HBox(children=(IntProgress(value=0), HTML(value='')))"
      ]
     },
     "metadata": {},
     "output_type": "display_data"
    },
    {
     "name": "stdout",
     "output_type": "stream",
     "text": [
      "\n"
     ]
    }
   ],
   "source": [
    "x, l, residuals = power_method(L, np.random.rand(A.shape[0]), num_iter=100)"
   ]
  },
  {
   "cell_type": "code",
   "execution_count": 28,
   "metadata": {},
   "outputs": [
    {
     "name": "stdout",
     "output_type": "stream",
     "text": [
      "1.000000000105865\n"
     ]
    },
    {
     "data": {
      "image/png": "[encoded data removed]",
      "text/plain": [
       "<Figure size 720x504 with 1 Axes>"
      ]
     },
     "metadata": {
      "needs_background": "light"
     },
     "output_type": "display_data"
    }
   ],
   "source": [
    "import matplotlib.pyplot as plt\n",
    "print(l)\n",
    "\n",
    "plt.figure(figsize=(10, 7))\n",
    "plt.plot(residuals)\n",
    "plt.xlabel('iteration #', fontsize=14)\n",
    "plt.yscale('log')\n",
    "plt.title(r'Residuals during processing $A_d$ matrix', fontsize=18)\n",
    "plt.show()"
   ]
  },
  {
   "cell_type": "markdown",
   "metadata": {},
   "source": [
    "* (1 pts) Print names of the top-10 authors according to PageRank over DBLP when $d=0.85$. Comment on your findings."
   ]
  },
  {
   "cell_type": "code",
   "execution_count": 29,
   "metadata": {},
   "outputs": [
    {
     "name": "stdout",
     "output_type": "stream",
     "text": [
      "David E. Goldberg\n",
      "Martin Porter\n",
      "Veronica Falcão\n",
      "Richard M. Karp\n",
      "Anil K. Jain\n",
      "Azriel Rosenfeld\n",
      "Ronald L. Rivest\n",
      "John E. Hopcroft\n",
      "Takeo Kanade\n",
      "Lawrence Prusak\n"
     ]
    }
   ],
   "source": [
    "top = sorted(range(len(x)), reverse=True, key=lambda k: x[k])[:10]\n",
    "for a in top:\n",
    "    print(authors[a])"
   ]
  },
  {
   "cell_type": "markdown",
   "metadata": {},
   "source": [
    "This authors are indeed quite famous and cited very often."
   ]
  },
  {
   "cell_type": "code",
   "execution_count": null,
   "metadata": {},
   "outputs": [],
   "source": []
  }
 ],
 "metadata": {
  "kernelspec": {
   "display_name": "Python 3",
   "language": "python",
   "name": "python3"
  },
  "language_info": {
   "codemirror_mode": {
    "name": "ipython",
    "version": 3
   },
   "file_extension": ".py",
   "mimetype": "text/x-python",
   "name": "python",
   "nbconvert_exporter": "python",
   "pygments_lexer": "ipython3",
   "version": "3.7.4"
  },
  "toc": {
   "base_numbering": 1,
   "nav_menu": {},
   "number_sections": true,
   "sideBar": true,
   "skip_h1_title": false,
   "title_cell": "Table of Contents",
   "title_sidebar": "Contents",
   "toc_cell": false,
   "toc_position": {},
   "toc_section_display": true,
   "toc_window_display": false
  }
 },
 "nbformat": 4,
 "nbformat_minor": 2
}
